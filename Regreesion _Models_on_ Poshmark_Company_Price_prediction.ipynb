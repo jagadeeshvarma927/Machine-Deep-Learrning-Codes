{
 "cells": [
  {
   "cell_type": "code",
   "execution_count": 1,
   "metadata": {
    "executionInfo": {
     "elapsed": 815,
     "status": "ok",
     "timestamp": 1601424785745,
     "user": {
      "displayName": "Jagadeesh Varma Indukuri",
      "photoUrl": "https://lh3.googleusercontent.com/a-/AOh14GjMSV2b5VJB3WCiXt_Gotc2D-9GivA_YSghKTL9_g=s64",
      "userId": "04485650824869924790"
     },
     "user_tz": -330
    },
    "id": "2JzXva98jQXQ"
   },
   "outputs": [],
   "source": [
    "import pandas as pd\n",
    "import os\n",
    "import sklearn"
   ]
  },
  {
   "cell_type": "markdown",
   "metadata": {},
   "source": [
    "### This is a Dataset Related to\n",
    "\n",
    "On Poshmark, the price for an item is set by the user who is lisfing the item. Some users who are listing for the ﬁrst fime, struggle to set an appropriate price for their item. To help such users, we want to develop a model which suggests an appropriate lisfing price when the item is being listed. The inputs to such a model will be the atributes of the lisfing that the user enters while creafing the lisfing.\n",
    "\n",
    "To develop this model, we have provided a sample of sold lisfings from the year 2019. The dataset is a CSV ﬁle. A brief descripfion of the ﬁelds is as follows -\n"
   ]
  },
  {
   "cell_type": "code",
   "execution_count": 2,
   "metadata": {
    "executionInfo": {
     "elapsed": 2452,
     "status": "ok",
     "timestamp": 1601424790106,
     "user": {
      "displayName": "Jagadeesh Varma Indukuri",
      "photoUrl": "https://lh3.googleusercontent.com/a-/AOh14GjMSV2b5VJB3WCiXt_Gotc2D-9GivA_YSghKTL9_g=s64",
      "userId": "04485650824869924790"
     },
     "user_tz": -330
    },
    "id": "CZv8dYDcjQXi"
   },
   "outputs": [],
   "source": [
    "\n",
    "df=pd.read_csv('C:/Users/pc/Desktop/Companys_Assignment/ds-take-home-dataset.csv')"
   ]
  },
  {
   "cell_type": "code",
   "execution_count": 3,
   "metadata": {
    "colab": {
     "base_uri": "https://localhost:8080/",
     "height": 204
    },
    "executionInfo": {
     "elapsed": 1957,
     "status": "ok",
     "timestamp": 1601424790111,
     "user": {
      "displayName": "Jagadeesh Varma Indukuri",
      "photoUrl": "https://lh3.googleusercontent.com/a-/AOh14GjMSV2b5VJB3WCiXt_Gotc2D-9GivA_YSghKTL9_g=s64",
      "userId": "04485650824869924790"
     },
     "user_tz": -330
    },
    "id": "zzw0NnZDjQXu",
    "outputId": "a5a04a51-dde4-4a83-87b1-e86b6350962f"
   },
   "outputs": [
    {
     "data": {
      "text/html": [
       "<div>\n",
       "<style scoped>\n",
       "    .dataframe tbody tr th:only-of-type {\n",
       "        vertical-align: middle;\n",
       "    }\n",
       "\n",
       "    .dataframe tbody tr th {\n",
       "        vertical-align: top;\n",
       "    }\n",
       "\n",
       "    .dataframe thead th {\n",
       "        text-align: right;\n",
       "    }\n",
       "</style>\n",
       "<table border=\"1\" class=\"dataframe\">\n",
       "  <thead>\n",
       "    <tr style=\"text-align: right;\">\n",
       "      <th></th>\n",
       "      <th>id</th>\n",
       "      <th>attr1</th>\n",
       "      <th>attr2</th>\n",
       "      <th>attr3</th>\n",
       "      <th>attr4</th>\n",
       "      <th>attr5</th>\n",
       "      <th>attr6</th>\n",
       "      <th>title</th>\n",
       "      <th>sold_price</th>\n",
       "    </tr>\n",
       "  </thead>\n",
       "  <tbody>\n",
       "    <tr>\n",
       "      <th>0</th>\n",
       "      <td>742122</td>\n",
       "      <td>4</td>\n",
       "      <td>27</td>\n",
       "      <td>149.0</td>\n",
       "      <td>3808.0</td>\n",
       "      <td>1.0</td>\n",
       "      <td>99.0</td>\n",
       "      <td>one teaspoon bandit distressed denim shorts (23)</td>\n",
       "      <td>65.0</td>\n",
       "    </tr>\n",
       "    <tr>\n",
       "      <th>1</th>\n",
       "      <td>652751</td>\n",
       "      <td>4</td>\n",
       "      <td>3</td>\n",
       "      <td>89.0</td>\n",
       "      <td>1996.0</td>\n",
       "      <td>NaN</td>\n",
       "      <td>1500.0</td>\n",
       "      <td>gucci emily mini guccissima mini red leather bag</td>\n",
       "      <td>600.0</td>\n",
       "    </tr>\n",
       "    <tr>\n",
       "      <th>2</th>\n",
       "      <td>228229</td>\n",
       "      <td>4</td>\n",
       "      <td>26</td>\n",
       "      <td>301.0</td>\n",
       "      <td>5194.0</td>\n",
       "      <td>NaN</td>\n",
       "      <td>89.0</td>\n",
       "      <td>steve madden polka dot wedges 8.5 - wi06</td>\n",
       "      <td>12.0</td>\n",
       "    </tr>\n",
       "    <tr>\n",
       "      <th>3</th>\n",
       "      <td>645810</td>\n",
       "      <td>4</td>\n",
       "      <td>27</td>\n",
       "      <td>NaN</td>\n",
       "      <td>6335.0</td>\n",
       "      <td>NaN</td>\n",
       "      <td>0.0</td>\n",
       "      <td>crown &amp; ivy navy blue floral print shorts</td>\n",
       "      <td>12.0</td>\n",
       "    </tr>\n",
       "    <tr>\n",
       "      <th>4</th>\n",
       "      <td>854374</td>\n",
       "      <td>4</td>\n",
       "      <td>22</td>\n",
       "      <td>302.0</td>\n",
       "      <td>3606.0</td>\n",
       "      <td>2.0</td>\n",
       "      <td>45.0</td>\n",
       "      <td>grey wide leg dress pants</td>\n",
       "      <td>22.0</td>\n",
       "    </tr>\n",
       "  </tbody>\n",
       "</table>\n",
       "</div>"
      ],
      "text/plain": [
       "       id  attr1  attr2  attr3   attr4  attr5   attr6  \\\n",
       "0  742122      4     27  149.0  3808.0    1.0    99.0   \n",
       "1  652751      4      3   89.0  1996.0    NaN  1500.0   \n",
       "2  228229      4     26  301.0  5194.0    NaN    89.0   \n",
       "3  645810      4     27    NaN  6335.0    NaN     0.0   \n",
       "4  854374      4     22  302.0  3606.0    2.0    45.0   \n",
       "\n",
       "                                              title  sold_price  \n",
       "0  one teaspoon bandit distressed denim shorts (23)        65.0  \n",
       "1  gucci emily mini guccissima mini red leather bag       600.0  \n",
       "2          steve madden polka dot wedges 8.5 - wi06        12.0  \n",
       "3         crown & ivy navy blue floral print shorts        12.0  \n",
       "4                         grey wide leg dress pants        22.0  "
      ]
     },
     "execution_count": 3,
     "metadata": {},
     "output_type": "execute_result"
    }
   ],
   "source": [
    "df.head()"
   ]
  },
  {
   "cell_type": "code",
   "execution_count": 4,
   "metadata": {},
   "outputs": [
    {
     "data": {
      "text/html": [
       "<div>\n",
       "<style scoped>\n",
       "    .dataframe tbody tr th:only-of-type {\n",
       "        vertical-align: middle;\n",
       "    }\n",
       "\n",
       "    .dataframe tbody tr th {\n",
       "        vertical-align: top;\n",
       "    }\n",
       "\n",
       "    .dataframe thead th {\n",
       "        text-align: right;\n",
       "    }\n",
       "</style>\n",
       "<table border=\"1\" class=\"dataframe\">\n",
       "  <thead>\n",
       "    <tr style=\"text-align: right;\">\n",
       "      <th></th>\n",
       "      <th>id</th>\n",
       "      <th>attr1</th>\n",
       "      <th>attr2</th>\n",
       "      <th>attr3</th>\n",
       "      <th>attr4</th>\n",
       "      <th>attr5</th>\n",
       "      <th>attr6</th>\n",
       "      <th>title</th>\n",
       "      <th>sold_price</th>\n",
       "    </tr>\n",
       "  </thead>\n",
       "  <tbody>\n",
       "    <tr>\n",
       "      <th>count</th>\n",
       "      <td>1.029850e+06</td>\n",
       "      <td>1.029850e+06</td>\n",
       "      <td>1.029850e+06</td>\n",
       "      <td>843080.000000</td>\n",
       "      <td>864417.000000</td>\n",
       "      <td>495664.000000</td>\n",
       "      <td>1.029850e+06</td>\n",
       "      <td>1029761</td>\n",
       "      <td>1.029850e+06</td>\n",
       "    </tr>\n",
       "    <tr>\n",
       "      <th>unique</th>\n",
       "      <td>NaN</td>\n",
       "      <td>NaN</td>\n",
       "      <td>NaN</td>\n",
       "      <td>NaN</td>\n",
       "      <td>NaN</td>\n",
       "      <td>NaN</td>\n",
       "      <td>NaN</td>\n",
       "      <td>840460</td>\n",
       "      <td>NaN</td>\n",
       "    </tr>\n",
       "    <tr>\n",
       "      <th>top</th>\n",
       "      <td>NaN</td>\n",
       "      <td>NaN</td>\n",
       "      <td>NaN</td>\n",
       "      <td>NaN</td>\n",
       "      <td>NaN</td>\n",
       "      <td>NaN</td>\n",
       "      <td>NaN</td>\n",
       "      <td>gucci belt</td>\n",
       "      <td>NaN</td>\n",
       "    </tr>\n",
       "    <tr>\n",
       "      <th>freq</th>\n",
       "      <td>NaN</td>\n",
       "      <td>NaN</td>\n",
       "      <td>NaN</td>\n",
       "      <td>NaN</td>\n",
       "      <td>NaN</td>\n",
       "      <td>NaN</td>\n",
       "      <td>NaN</td>\n",
       "      <td>809</td>\n",
       "      <td>NaN</td>\n",
       "    </tr>\n",
       "    <tr>\n",
       "      <th>mean</th>\n",
       "      <td>4.999636e+05</td>\n",
       "      <td>3.792792e+00</td>\n",
       "      <td>1.611883e+01</td>\n",
       "      <td>170.677981</td>\n",
       "      <td>3026.511901</td>\n",
       "      <td>1.452339</td>\n",
       "      <td>4.572187e+09</td>\n",
       "      <td>NaN</td>\n",
       "      <td>1.959587e+02</td>\n",
       "    </tr>\n",
       "    <tr>\n",
       "      <th>std</th>\n",
       "      <td>2.886351e+05</td>\n",
       "      <td>5.353355e-01</td>\n",
       "      <td>1.087543e+01</td>\n",
       "      <td>91.907382</td>\n",
       "      <td>1842.932124</td>\n",
       "      <td>0.497728</td>\n",
       "      <td>4.594750e+12</td>\n",
       "      <td>NaN</td>\n",
       "      <td>1.440187e+03</td>\n",
       "    </tr>\n",
       "    <tr>\n",
       "      <th>min</th>\n",
       "      <td>1.000000e+00</td>\n",
       "      <td>1.000000e+00</td>\n",
       "      <td>1.000000e+00</td>\n",
       "      <td>1.000000</td>\n",
       "      <td>1.000000</td>\n",
       "      <td>1.000000</td>\n",
       "      <td>0.000000e+00</td>\n",
       "      <td>NaN</td>\n",
       "      <td>0.000000e+00</td>\n",
       "    </tr>\n",
       "    <tr>\n",
       "      <th>25%</th>\n",
       "      <td>2.500282e+05</td>\n",
       "      <td>4.000000e+00</td>\n",
       "      <td>3.000000e+00</td>\n",
       "      <td>89.000000</td>\n",
       "      <td>1453.000000</td>\n",
       "      <td>1.000000</td>\n",
       "      <td>2.700000e+01</td>\n",
       "      <td>NaN</td>\n",
       "      <td>1.500000e+01</td>\n",
       "    </tr>\n",
       "    <tr>\n",
       "      <th>50%</th>\n",
       "      <td>4.999745e+05</td>\n",
       "      <td>4.000000e+00</td>\n",
       "      <td>1.400000e+01</td>\n",
       "      <td>180.000000</td>\n",
       "      <td>2896.000000</td>\n",
       "      <td>1.000000</td>\n",
       "      <td>1.190000e+02</td>\n",
       "      <td>NaN</td>\n",
       "      <td>5.000000e+01</td>\n",
       "    </tr>\n",
       "    <tr>\n",
       "      <th>75%</th>\n",
       "      <td>7.499088e+05</td>\n",
       "      <td>4.000000e+00</td>\n",
       "      <td>2.600000e+01</td>\n",
       "      <td>252.000000</td>\n",
       "      <td>4425.000000</td>\n",
       "      <td>2.000000</td>\n",
       "      <td>6.000000e+02</td>\n",
       "      <td>NaN</td>\n",
       "      <td>2.790000e+02</td>\n",
       "    </tr>\n",
       "    <tr>\n",
       "      <th>max</th>\n",
       "      <td>9.998500e+05</td>\n",
       "      <td>4.000000e+00</td>\n",
       "      <td>3.500000e+01</td>\n",
       "      <td>306.000000</td>\n",
       "      <td>6640.000000</td>\n",
       "      <td>3.000000</td>\n",
       "      <td>4.662595e+15</td>\n",
       "      <td>NaN</td>\n",
       "      <td>8.979010e+05</td>\n",
       "    </tr>\n",
       "  </tbody>\n",
       "</table>\n",
       "</div>"
      ],
      "text/plain": [
       "                  id         attr1         attr2          attr3  \\\n",
       "count   1.029850e+06  1.029850e+06  1.029850e+06  843080.000000   \n",
       "unique           NaN           NaN           NaN            NaN   \n",
       "top              NaN           NaN           NaN            NaN   \n",
       "freq             NaN           NaN           NaN            NaN   \n",
       "mean    4.999636e+05  3.792792e+00  1.611883e+01     170.677981   \n",
       "std     2.886351e+05  5.353355e-01  1.087543e+01      91.907382   \n",
       "min     1.000000e+00  1.000000e+00  1.000000e+00       1.000000   \n",
       "25%     2.500282e+05  4.000000e+00  3.000000e+00      89.000000   \n",
       "50%     4.999745e+05  4.000000e+00  1.400000e+01     180.000000   \n",
       "75%     7.499088e+05  4.000000e+00  2.600000e+01     252.000000   \n",
       "max     9.998500e+05  4.000000e+00  3.500000e+01     306.000000   \n",
       "\n",
       "                attr4          attr5         attr6       title    sold_price  \n",
       "count   864417.000000  495664.000000  1.029850e+06     1029761  1.029850e+06  \n",
       "unique            NaN            NaN           NaN      840460           NaN  \n",
       "top               NaN            NaN           NaN  gucci belt           NaN  \n",
       "freq              NaN            NaN           NaN         809           NaN  \n",
       "mean      3026.511901       1.452339  4.572187e+09         NaN  1.959587e+02  \n",
       "std       1842.932124       0.497728  4.594750e+12         NaN  1.440187e+03  \n",
       "min          1.000000       1.000000  0.000000e+00         NaN  0.000000e+00  \n",
       "25%       1453.000000       1.000000  2.700000e+01         NaN  1.500000e+01  \n",
       "50%       2896.000000       1.000000  1.190000e+02         NaN  5.000000e+01  \n",
       "75%       4425.000000       2.000000  6.000000e+02         NaN  2.790000e+02  \n",
       "max       6640.000000       3.000000  4.662595e+15         NaN  8.979010e+05  "
      ]
     },
     "execution_count": 4,
     "metadata": {},
     "output_type": "execute_result"
    }
   ],
   "source": [
    "df.describe(include='all')"
   ]
  },
  {
   "cell_type": "markdown",
   "metadata": {
    "id": "8NkQ-VDcjQX8"
   },
   "source": [
    "## Checking the datatypes "
   ]
  },
  {
   "cell_type": "code",
   "execution_count": 5,
   "metadata": {
    "colab": {
     "base_uri": "https://localhost:8080/",
     "height": 293
    },
    "executionInfo": {
     "elapsed": 670,
     "status": "ok",
     "timestamp": 1601424793334,
     "user": {
      "displayName": "Jagadeesh Varma Indukuri",
      "photoUrl": "https://lh3.googleusercontent.com/a-/AOh14GjMSV2b5VJB3WCiXt_Gotc2D-9GivA_YSghKTL9_g=s64",
      "userId": "04485650824869924790"
     },
     "user_tz": -330
    },
    "id": "bTbEPsuVjQX_",
    "outputId": "fdacecd8-1718-474d-911e-a559137c30ec"
   },
   "outputs": [
    {
     "name": "stdout",
     "output_type": "stream",
     "text": [
      "<class 'pandas.core.frame.DataFrame'>\n",
      "RangeIndex: 1029850 entries, 0 to 1029849\n",
      "Data columns (total 9 columns):\n",
      " #   Column      Non-Null Count    Dtype  \n",
      "---  ------      --------------    -----  \n",
      " 0   id          1029850 non-null  int64  \n",
      " 1   attr1       1029850 non-null  int64  \n",
      " 2   attr2       1029850 non-null  int64  \n",
      " 3   attr3       843080 non-null   float64\n",
      " 4   attr4       864417 non-null   float64\n",
      " 5   attr5       495664 non-null   float64\n",
      " 6   attr6       1029850 non-null  float64\n",
      " 7   title       1029761 non-null  object \n",
      " 8   sold_price  1029850 non-null  float64\n",
      "dtypes: float64(5), int64(3), object(1)\n",
      "memory usage: 70.7+ MB\n"
     ]
    }
   ],
   "source": [
    "df.info()"
   ]
  },
  {
   "cell_type": "markdown",
   "metadata": {
    "id": "CDUtIW7njQYL"
   },
   "source": [
    "## Checking for the NaN values in the Dataset\n",
    "    # Attribute 3, Attribute4, Attribute5 has NaN values"
   ]
  },
  {
   "cell_type": "code",
   "execution_count": 6,
   "metadata": {
    "colab": {
     "base_uri": "https://localhost:8080/",
     "height": 190
    },
    "executionInfo": {
     "elapsed": 1099,
     "status": "ok",
     "timestamp": 1601424794172,
     "user": {
      "displayName": "Jagadeesh Varma Indukuri",
      "photoUrl": "https://lh3.googleusercontent.com/a-/AOh14GjMSV2b5VJB3WCiXt_Gotc2D-9GivA_YSghKTL9_g=s64",
      "userId": "04485650824869924790"
     },
     "user_tz": -330
    },
    "id": "Tn9x1YThjQYO",
    "outputId": "776cab79-14b4-4af5-ab97-e5e71f35101c"
   },
   "outputs": [
    {
     "data": {
      "text/plain": [
       "id                 0\n",
       "attr1              0\n",
       "attr2              0\n",
       "attr3         186770\n",
       "attr4         165433\n",
       "attr5         534186\n",
       "attr6              0\n",
       "title             89\n",
       "sold_price         0\n",
       "dtype: int64"
      ]
     },
     "execution_count": 6,
     "metadata": {},
     "output_type": "execute_result"
    }
   ],
   "source": [
    "df.isna().sum()"
   ]
  },
  {
   "cell_type": "markdown",
   "metadata": {
    "id": "ODOQAElVjQYZ"
   },
   "source": [
    "### Checking for a missing values percentage"
   ]
  },
  {
   "cell_type": "code",
   "execution_count": 7,
   "metadata": {
    "executionInfo": {
     "elapsed": 1454,
     "status": "ok",
     "timestamp": 1601424794871,
     "user": {
      "displayName": "Jagadeesh Varma Indukuri",
      "photoUrl": "https://lh3.googleusercontent.com/a-/AOh14GjMSV2b5VJB3WCiXt_Gotc2D-9GivA_YSghKTL9_g=s64",
      "userId": "04485650824869924790"
     },
     "user_tz": -330
    },
    "id": "wRpMstUojQYb"
   },
   "outputs": [],
   "source": [
    "\n",
    "percent_missing = df.isnull().sum() * 100 / len(df)\n",
    "missing_value_df = pd.DataFrame({'column_name': df.columns,\n",
    "                                 'percent_missing': percent_missing})"
   ]
  },
  {
   "cell_type": "code",
   "execution_count": 8,
   "metadata": {
    "executionInfo": {
     "elapsed": 1341,
     "status": "ok",
     "timestamp": 1601424794888,
     "user": {
      "displayName": "Jagadeesh Varma Indukuri",
      "photoUrl": "https://lh3.googleusercontent.com/a-/AOh14GjMSV2b5VJB3WCiXt_Gotc2D-9GivA_YSghKTL9_g=s64",
      "userId": "04485650824869924790"
     },
     "user_tz": -330
    },
    "id": "nA5KPRWnjQYh"
   },
   "outputs": [],
   "source": [
    "missing_value_df.reset_index(drop='index',inplace=True)"
   ]
  },
  {
   "cell_type": "code",
   "execution_count": 9,
   "metadata": {
    "executionInfo": {
     "elapsed": 1168,
     "status": "ok",
     "timestamp": 1601424794890,
     "user": {
      "displayName": "Jagadeesh Varma Indukuri",
      "photoUrl": "https://lh3.googleusercontent.com/a-/AOh14GjMSV2b5VJB3WCiXt_Gotc2D-9GivA_YSghKTL9_g=s64",
      "userId": "04485650824869924790"
     },
     "user_tz": -330
    },
    "id": "JkKQDyisjQYn"
   },
   "outputs": [],
   "source": [
    "missing_value_df.sort_values('percent_missing', inplace=True,ascending=False)"
   ]
  },
  {
   "cell_type": "markdown",
   "metadata": {
    "id": "q7bFGj2hjQYr"
   },
   "source": [
    "#### Here if we observe , the percentage of missing values of attribue 5 is higher\n",
    "    # Hence removing attribute5 \n",
    "    "
   ]
  },
  {
   "cell_type": "code",
   "execution_count": 10,
   "metadata": {
    "colab": {
     "base_uri": "https://localhost:8080/",
     "height": 173
    },
    "executionInfo": {
     "elapsed": 1227,
     "status": "ok",
     "timestamp": 1601424795301,
     "user": {
      "displayName": "Jagadeesh Varma Indukuri",
      "photoUrl": "https://lh3.googleusercontent.com/a-/AOh14GjMSV2b5VJB3WCiXt_Gotc2D-9GivA_YSghKTL9_g=s64",
      "userId": "04485650824869924790"
     },
     "user_tz": -330
    },
    "id": "4B3D_RbKjQYr",
    "outputId": "d4c4edfa-8a14-47e0-adbd-befb6ae7cbed"
   },
   "outputs": [
    {
     "data": {
      "text/html": [
       "<div>\n",
       "<style scoped>\n",
       "    .dataframe tbody tr th:only-of-type {\n",
       "        vertical-align: middle;\n",
       "    }\n",
       "\n",
       "    .dataframe tbody tr th {\n",
       "        vertical-align: top;\n",
       "    }\n",
       "\n",
       "    .dataframe thead th {\n",
       "        text-align: right;\n",
       "    }\n",
       "</style>\n",
       "<table border=\"1\" class=\"dataframe\">\n",
       "  <thead>\n",
       "    <tr style=\"text-align: right;\">\n",
       "      <th></th>\n",
       "      <th>column_name</th>\n",
       "      <th>percent_missing</th>\n",
       "    </tr>\n",
       "  </thead>\n",
       "  <tbody>\n",
       "    <tr>\n",
       "      <th>5</th>\n",
       "      <td>attr5</td>\n",
       "      <td>51.870272</td>\n",
       "    </tr>\n",
       "    <tr>\n",
       "      <th>3</th>\n",
       "      <td>attr3</td>\n",
       "      <td>18.135651</td>\n",
       "    </tr>\n",
       "    <tr>\n",
       "      <th>4</th>\n",
       "      <td>attr4</td>\n",
       "      <td>16.063796</td>\n",
       "    </tr>\n",
       "    <tr>\n",
       "      <th>7</th>\n",
       "      <td>title</td>\n",
       "      <td>0.008642</td>\n",
       "    </tr>\n",
       "  </tbody>\n",
       "</table>\n",
       "</div>"
      ],
      "text/plain": [
       "  column_name  percent_missing\n",
       "5       attr5        51.870272\n",
       "3       attr3        18.135651\n",
       "4       attr4        16.063796\n",
       "7       title         0.008642"
      ]
     },
     "execution_count": 10,
     "metadata": {},
     "output_type": "execute_result"
    }
   ],
   "source": [
    "missing_value_df[missing_value_df['percent_missing']>0.0001]"
   ]
  },
  {
   "cell_type": "markdown",
   "metadata": {
    "id": "X2BywiwzjQYv"
   },
   "source": [
    "### Dropping the duplicates in the data"
   ]
  },
  {
   "cell_type": "code",
   "execution_count": 11,
   "metadata": {
    "executionInfo": {
     "elapsed": 2725,
     "status": "ok",
     "timestamp": 1601424797145,
     "user": {
      "displayName": "Jagadeesh Varma Indukuri",
      "photoUrl": "https://lh3.googleusercontent.com/a-/AOh14GjMSV2b5VJB3WCiXt_Gotc2D-9GivA_YSghKTL9_g=s64",
      "userId": "04485650824869924790"
     },
     "user_tz": -330
    },
    "id": "7uC1RjX-jQYw"
   },
   "outputs": [],
   "source": [
    "df.drop_duplicates(inplace=True)\n",
    "    "
   ]
  },
  {
   "cell_type": "code",
   "execution_count": 12,
   "metadata": {
    "colab": {
     "base_uri": "https://localhost:8080/",
     "height": 34
    },
    "executionInfo": {
     "elapsed": 2544,
     "status": "ok",
     "timestamp": 1601424797152,
     "user": {
      "displayName": "Jagadeesh Varma Indukuri",
      "photoUrl": "https://lh3.googleusercontent.com/a-/AOh14GjMSV2b5VJB3WCiXt_Gotc2D-9GivA_YSghKTL9_g=s64",
      "userId": "04485650824869924790"
     },
     "user_tz": -330
    },
    "id": "ySNiaYxzjQYz",
    "outputId": "74727824-4176-4d54-9cab-c14c43dc5f6d"
   },
   "outputs": [
    {
     "data": {
      "text/plain": [
       "(1019647, 9)"
      ]
     },
     "execution_count": 12,
     "metadata": {},
     "output_type": "execute_result"
    }
   ],
   "source": [
    "# Some of the duplicates rows has been removed\n",
    "df.shape"
   ]
  },
  {
   "cell_type": "markdown",
   "metadata": {
    "id": "x-FfoTTAjQY-"
   },
   "source": [
    "### Dropping the unnecessary columns which are not ment for Regression\n",
    "    # Dropping ID column sice its only an identification of the product\n",
    "    # Dropping the attribute 5 since it has 51% of missing values\n",
    "    # Dropping title listing which doesnt make difference, applying the Linear and Non-Linear Models."
   ]
  },
  {
   "cell_type": "code",
   "execution_count": 13,
   "metadata": {
    "executionInfo": {
     "elapsed": 1505,
     "status": "ok",
     "timestamp": 1601424797156,
     "user": {
      "displayName": "Jagadeesh Varma Indukuri",
      "photoUrl": "https://lh3.googleusercontent.com/a-/AOh14GjMSV2b5VJB3WCiXt_Gotc2D-9GivA_YSghKTL9_g=s64",
      "userId": "04485650824869924790"
     },
     "user_tz": -330
    },
    "id": "d_jM5tYIjQY-"
   },
   "outputs": [],
   "source": [
    "df.drop(columns=['id','attr5','title'],axis=1,inplace=True)"
   ]
  },
  {
   "cell_type": "code",
   "execution_count": 14,
   "metadata": {
    "colab": {
     "base_uri": "https://localhost:8080/",
     "height": 204
    },
    "executionInfo": {
     "elapsed": 1311,
     "status": "ok",
     "timestamp": 1601424797157,
     "user": {
      "displayName": "Jagadeesh Varma Indukuri",
      "photoUrl": "https://lh3.googleusercontent.com/a-/AOh14GjMSV2b5VJB3WCiXt_Gotc2D-9GivA_YSghKTL9_g=s64",
      "userId": "04485650824869924790"
     },
     "user_tz": -330
    },
    "id": "-HpQNa4VjQZB",
    "outputId": "d162602f-9eb4-4853-b24a-c43ab60bc7df"
   },
   "outputs": [
    {
     "data": {
      "text/html": [
       "<div>\n",
       "<style scoped>\n",
       "    .dataframe tbody tr th:only-of-type {\n",
       "        vertical-align: middle;\n",
       "    }\n",
       "\n",
       "    .dataframe tbody tr th {\n",
       "        vertical-align: top;\n",
       "    }\n",
       "\n",
       "    .dataframe thead th {\n",
       "        text-align: right;\n",
       "    }\n",
       "</style>\n",
       "<table border=\"1\" class=\"dataframe\">\n",
       "  <thead>\n",
       "    <tr style=\"text-align: right;\">\n",
       "      <th></th>\n",
       "      <th>attr1</th>\n",
       "      <th>attr2</th>\n",
       "      <th>attr3</th>\n",
       "      <th>attr4</th>\n",
       "      <th>attr6</th>\n",
       "      <th>sold_price</th>\n",
       "    </tr>\n",
       "  </thead>\n",
       "  <tbody>\n",
       "    <tr>\n",
       "      <th>0</th>\n",
       "      <td>4</td>\n",
       "      <td>27</td>\n",
       "      <td>149.0</td>\n",
       "      <td>3808.0</td>\n",
       "      <td>99.0</td>\n",
       "      <td>65.0</td>\n",
       "    </tr>\n",
       "    <tr>\n",
       "      <th>1</th>\n",
       "      <td>4</td>\n",
       "      <td>3</td>\n",
       "      <td>89.0</td>\n",
       "      <td>1996.0</td>\n",
       "      <td>1500.0</td>\n",
       "      <td>600.0</td>\n",
       "    </tr>\n",
       "    <tr>\n",
       "      <th>2</th>\n",
       "      <td>4</td>\n",
       "      <td>26</td>\n",
       "      <td>301.0</td>\n",
       "      <td>5194.0</td>\n",
       "      <td>89.0</td>\n",
       "      <td>12.0</td>\n",
       "    </tr>\n",
       "    <tr>\n",
       "      <th>3</th>\n",
       "      <td>4</td>\n",
       "      <td>27</td>\n",
       "      <td>NaN</td>\n",
       "      <td>6335.0</td>\n",
       "      <td>0.0</td>\n",
       "      <td>12.0</td>\n",
       "    </tr>\n",
       "    <tr>\n",
       "      <th>4</th>\n",
       "      <td>4</td>\n",
       "      <td>22</td>\n",
       "      <td>302.0</td>\n",
       "      <td>3606.0</td>\n",
       "      <td>45.0</td>\n",
       "      <td>22.0</td>\n",
       "    </tr>\n",
       "  </tbody>\n",
       "</table>\n",
       "</div>"
      ],
      "text/plain": [
       "   attr1  attr2  attr3   attr4   attr6  sold_price\n",
       "0      4     27  149.0  3808.0    99.0        65.0\n",
       "1      4      3   89.0  1996.0  1500.0       600.0\n",
       "2      4     26  301.0  5194.0    89.0        12.0\n",
       "3      4     27    NaN  6335.0     0.0        12.0\n",
       "4      4     22  302.0  3606.0    45.0        22.0"
      ]
     },
     "execution_count": 14,
     "metadata": {},
     "output_type": "execute_result"
    }
   ],
   "source": [
    "df.head()"
   ]
  },
  {
   "cell_type": "markdown",
   "metadata": {
    "id": "u6ZOA4nzjQZF"
   },
   "source": [
    "### Understanding the Data\n",
    "    --> Attribute-1 has four distinct categorys [1,2,3,4]\n",
    "        -> Attr-1 with category-3 has highest averge amount belongs to Attr-6.\n",
    "        -> Attr-1 with category-1 has lowest averge amount belongs to Attr-6.\n",
    "    --> Attribute-2 has 35 distinct categories\n",
    "        -> Attr-2 with category-26 has highest averge amount belongs to Attr-6.\n",
    "        -> Attr-2 with category-21 has lowest averge amount belongs to Attr-6.\n",
    "    -> Attribute-3 has 306 Categories and Attribute -4 has 6640 categories.\n",
    "        "
   ]
  },
  {
   "cell_type": "code",
   "execution_count": 15,
   "metadata": {
    "colab": {
     "base_uri": "https://localhost:8080/",
     "height": 776
    },
    "executionInfo": {
     "elapsed": 1319,
     "status": "ok",
     "timestamp": 1601424797536,
     "user": {
      "displayName": "Jagadeesh Varma Indukuri",
      "photoUrl": "https://lh3.googleusercontent.com/a-/AOh14GjMSV2b5VJB3WCiXt_Gotc2D-9GivA_YSghKTL9_g=s64",
      "userId": "04485650824869924790"
     },
     "user_tz": -330
    },
    "id": "cJEO34xJjQZF",
    "outputId": "465b1653-729e-457e-9d58-f94bdd6dc181"
   },
   "outputs": [
    {
     "name": "stdout",
     "output_type": "stream",
     "text": [
      "Attributes pivot Table : attr1\n",
      "The max value in  attr1 -value attr6    3\n",
      "dtype: int64 attr6    4.122325e+10\n",
      "dtype: float64\n",
      "\n",
      "\n",
      "The min value in  attr1 -value attr6    1\n",
      "dtype: int64 attr6    558.217563\n",
      "dtype: float64\n",
      "\n",
      "\n",
      "Attributes pivot Table : attr2\n",
      "The max value in  attr2 -value attr6    26\n",
      "dtype: int64 attr6    2.308479e+10\n",
      "dtype: float64\n",
      "\n",
      "\n",
      "The min value in  attr2 -value attr6    21\n",
      "dtype: int64 attr6    45.66607\n",
      "dtype: float64\n",
      "\n",
      "\n",
      "Attributes pivot Table : attr3\n",
      "The max value in  attr3 -value attr6    252.0\n",
      "dtype: float64 attr6    9.684083e+10\n",
      "dtype: float64\n",
      "\n",
      "\n",
      "The min value in  attr3 -value attr6    52.0\n",
      "dtype: float64 attr6    0.0\n",
      "dtype: float64\n",
      "\n",
      "\n",
      "Attributes pivot Table : attr4\n",
      "The max value in  attr4 -value attr6    3760.0\n",
      "dtype: float64 attr6    2.888845e+12\n",
      "dtype: float64\n",
      "\n",
      "\n",
      "The min value in  attr4 -value attr6    5.0\n",
      "dtype: float64 attr6    0.0\n",
      "dtype: float64\n",
      "\n",
      "\n"
     ]
    }
   ],
   "source": [
    "l=['attr1','attr2','attr3','attr4']\n",
    "for i in l:\n",
    "    print('Attributes pivot Table :', i)\n",
    "    piv1=df.pivot_table(values=['attr6'],columns=[i], aggfunc=['mean'])  \n",
    "    print('The max value in ',str(i),'-value',piv1['mean'].idxmax(axis=1),piv1.max(axis=1))\n",
    "    print('\\n')\n",
    "    print('The min value in ',str(i),'-value',piv1['mean'].idxmin(axis=1),piv1.min(axis=1))\n",
    "    print('\\n')\n",
    "    \n"
   ]
  },
  {
   "cell_type": "markdown",
   "metadata": {
    "id": "tehLQ_aIjQZJ"
   },
   "source": [
    "### Understanding the Data\n",
    "    --> Attribute-1 has four distinct categorys [1,2,3,4]\n",
    "        -> Attr-1 with category-4 has highest averge amount belongs to sold_price\n",
    "        -> Attr-1 with category-2 has lowest averge amount belongs to sold_price.\n",
    "    --> Attribute-2 has 35 distinct categories\n",
    "        -> Attr-2 with category-3 has highest averge amount belongs to sold_price.\n",
    "        -> Attr-2 with category-21 has lowest averge amount belongs to sold_price.\n",
    "    -> Attribute-3 has 306 Categories and Attribute -4 has 6640 categories."
   ]
  },
  {
   "cell_type": "code",
   "execution_count": 16,
   "metadata": {
    "colab": {
     "base_uri": "https://localhost:8080/",
     "height": 776
    },
    "executionInfo": {
     "elapsed": 1391,
     "status": "ok",
     "timestamp": 1601424797963,
     "user": {
      "displayName": "Jagadeesh Varma Indukuri",
      "photoUrl": "https://lh3.googleusercontent.com/a-/AOh14GjMSV2b5VJB3WCiXt_Gotc2D-9GivA_YSghKTL9_g=s64",
      "userId": "04485650824869924790"
     },
     "user_tz": -330
    },
    "id": "x-z6ON6MjQZK",
    "outputId": "370cb433-346f-4fdb-c1b5-d69666b5afa1"
   },
   "outputs": [
    {
     "name": "stdout",
     "output_type": "stream",
     "text": [
      "Attributes pivot Table : attr1\n",
      "The max value in  attr1 -value sold_price    4\n",
      "dtype: int64 sold_price    206.226583\n",
      "dtype: float64\n",
      "\n",
      "\n",
      "The min value in  attr1 -value sold_price    2\n",
      "dtype: int64 sold_price    22.777941\n",
      "dtype: float64\n",
      "\n",
      "\n",
      "Attributes pivot Table : attr2\n",
      "The max value in  attr2 -value sold_price    3\n",
      "dtype: int64 sold_price    445.918396\n",
      "dtype: float64\n",
      "\n",
      "\n",
      "The min value in  attr2 -value sold_price    21\n",
      "dtype: int64 sold_price    9.886204\n",
      "dtype: float64\n",
      "\n",
      "\n",
      "Attributes pivot Table : attr3\n",
      "The max value in  attr3 -value sold_price    261.0\n",
      "dtype: float64 sold_price    807.227492\n",
      "dtype: float64\n",
      "\n",
      "\n",
      "The min value in  attr3 -value sold_price    200.0\n",
      "dtype: float64 sold_price    7.362857\n",
      "dtype: float64\n",
      "\n",
      "\n",
      "Attributes pivot Table : attr4\n",
      "The max value in  attr4 -value sold_price    5889.0\n",
      "dtype: float64 sold_price    2983.333333\n",
      "dtype: float64\n",
      "\n",
      "\n",
      "The min value in  attr4 -value sold_price    564.0\n",
      "dtype: float64 sold_price    1.7\n",
      "dtype: float64\n",
      "\n",
      "\n"
     ]
    }
   ],
   "source": [
    "l=['attr1','attr2','attr3','attr4']\n",
    "for i in l:\n",
    "    print('Attributes pivot Table :', i)\n",
    "    piv1=df.pivot_table(values=['sold_price'],columns=[i], aggfunc=['mean'])  \n",
    "    print('The max value in ',str(i),'-value',piv1['mean'].idxmax(axis=1),piv1.max(axis=1))\n",
    "    print('\\n')\n",
    "    print('The min value in ',str(i),'-value',piv1['mean'].idxmin(axis=1),piv1.min(axis=1))\n",
    "    print('\\n')\n"
   ]
  },
  {
   "cell_type": "markdown",
   "metadata": {
    "id": "wByNBykgjQZN"
   },
   "source": [
    "### plotting graphs to understand data distribution"
   ]
  },
  {
   "cell_type": "code",
   "execution_count": 17,
   "metadata": {
    "colab": {
     "base_uri": "https://localhost:8080/",
     "height": 204
    },
    "executionInfo": {
     "elapsed": 717,
     "status": "ok",
     "timestamp": 1601424799302,
     "user": {
      "displayName": "Jagadeesh Varma Indukuri",
      "photoUrl": "https://lh3.googleusercontent.com/a-/AOh14GjMSV2b5VJB3WCiXt_Gotc2D-9GivA_YSghKTL9_g=s64",
      "userId": "04485650824869924790"
     },
     "user_tz": -330
    },
    "id": "PgLsK0gLjQZO",
    "outputId": "d2c58871-c363-4267-aeeb-ace185a55344"
   },
   "outputs": [
    {
     "data": {
      "text/html": [
       "<div>\n",
       "<style scoped>\n",
       "    .dataframe tbody tr th:only-of-type {\n",
       "        vertical-align: middle;\n",
       "    }\n",
       "\n",
       "    .dataframe tbody tr th {\n",
       "        vertical-align: top;\n",
       "    }\n",
       "\n",
       "    .dataframe thead th {\n",
       "        text-align: right;\n",
       "    }\n",
       "</style>\n",
       "<table border=\"1\" class=\"dataframe\">\n",
       "  <thead>\n",
       "    <tr style=\"text-align: right;\">\n",
       "      <th></th>\n",
       "      <th>attr1</th>\n",
       "      <th>attr2</th>\n",
       "      <th>attr3</th>\n",
       "      <th>attr4</th>\n",
       "      <th>attr6</th>\n",
       "      <th>sold_price</th>\n",
       "    </tr>\n",
       "  </thead>\n",
       "  <tbody>\n",
       "    <tr>\n",
       "      <th>0</th>\n",
       "      <td>4</td>\n",
       "      <td>27</td>\n",
       "      <td>149.0</td>\n",
       "      <td>3808.0</td>\n",
       "      <td>99.0</td>\n",
       "      <td>65.0</td>\n",
       "    </tr>\n",
       "    <tr>\n",
       "      <th>1</th>\n",
       "      <td>4</td>\n",
       "      <td>3</td>\n",
       "      <td>89.0</td>\n",
       "      <td>1996.0</td>\n",
       "      <td>1500.0</td>\n",
       "      <td>600.0</td>\n",
       "    </tr>\n",
       "    <tr>\n",
       "      <th>2</th>\n",
       "      <td>4</td>\n",
       "      <td>26</td>\n",
       "      <td>301.0</td>\n",
       "      <td>5194.0</td>\n",
       "      <td>89.0</td>\n",
       "      <td>12.0</td>\n",
       "    </tr>\n",
       "    <tr>\n",
       "      <th>3</th>\n",
       "      <td>4</td>\n",
       "      <td>27</td>\n",
       "      <td>NaN</td>\n",
       "      <td>6335.0</td>\n",
       "      <td>0.0</td>\n",
       "      <td>12.0</td>\n",
       "    </tr>\n",
       "    <tr>\n",
       "      <th>4</th>\n",
       "      <td>4</td>\n",
       "      <td>22</td>\n",
       "      <td>302.0</td>\n",
       "      <td>3606.0</td>\n",
       "      <td>45.0</td>\n",
       "      <td>22.0</td>\n",
       "    </tr>\n",
       "  </tbody>\n",
       "</table>\n",
       "</div>"
      ],
      "text/plain": [
       "   attr1  attr2  attr3   attr4   attr6  sold_price\n",
       "0      4     27  149.0  3808.0    99.0        65.0\n",
       "1      4      3   89.0  1996.0  1500.0       600.0\n",
       "2      4     26  301.0  5194.0    89.0        12.0\n",
       "3      4     27    NaN  6335.0     0.0        12.0\n",
       "4      4     22  302.0  3606.0    45.0        22.0"
      ]
     },
     "execution_count": 17,
     "metadata": {},
     "output_type": "execute_result"
    }
   ],
   "source": [
    "df.head()"
   ]
  },
  {
   "cell_type": "markdown",
   "metadata": {
    "id": "7GVowogfjQZR"
   },
   "source": [
    "### Bar_plot visualisation of Attributes\n",
    "- Category 4 has more count in Attribute-1 [attr1]"
   ]
  },
  {
   "cell_type": "code",
   "execution_count": 18,
   "metadata": {
    "colab": {
     "base_uri": "https://localhost:8080/",
     "height": 248
    },
    "executionInfo": {
     "elapsed": 1704,
     "status": "ok",
     "timestamp": 1601424800508,
     "user": {
      "displayName": "Jagadeesh Varma Indukuri",
      "photoUrl": "https://lh3.googleusercontent.com/a-/AOh14GjMSV2b5VJB3WCiXt_Gotc2D-9GivA_YSghKTL9_g=s64",
      "userId": "04485650824869924790"
     },
     "user_tz": -330
    },
    "id": "KqWnOXZejQZS",
    "outputId": "e1a992a0-ad64-4fd6-8fe0-1f6e2ba30a85"
   },
   "outputs": [
    {
     "data": {
      "image/png": "[encoded data removed]",
      "text/plain": [
       "<Figure size 1728x1728 with 2 Axes>"
      ]
     },
     "metadata": {
      "needs_background": "light"
     },
     "output_type": "display_data"
    }
   ],
   "source": [
    "list1=['attr1', 'attr2']\n",
    "import matplotlib.pyplot as plt\n",
    "import seaborn as sns\n",
    "plt.figure(figsize=(24,24))\n",
    "for i,name in enumerate(list1):\n",
    "    fignum=2*i+1\n",
    "    plt.subplot(6,4,fignum+1)\n",
    "    #plt.title(name+'--Values_count')\n",
    "    sns.countplot(x=df[name])\n",
    "plt.savefig('Barplot_attr1,2.jpg')"
   ]
  },
  {
   "cell_type": "markdown",
   "metadata": {
    "id": "n6vHFa92jQZV"
   },
   "source": [
    "### Checking the distribution for the attributes\n",
    "- Target variable(sold_price) is highly right skewed , since the skewness is positive\n",
    "- Kurtosis is also heavily tailed"
   ]
  },
  {
   "cell_type": "code",
   "execution_count": 19,
   "metadata": {},
   "outputs": [
    {
     "name": "stdout",
     "output_type": "stream",
     "text": [
      "The kurtosis of Sold_price 176055.76475453857 \n",
      " The Skewness of sold_proce is: 358.66643268552093\n"
     ]
    }
   ],
   "source": [
    "from scipy.stats import kurtosis, skew\n",
    "print('The kurtosis of Sold_price',kurtosis(df['sold_price']),'\\n','The Skewness of sold_price is:',skew(df['sold_price']))"
   ]
  },
  {
   "cell_type": "markdown",
   "metadata": {},
   "source": [
    "### Multiple spikes can be clearly obseved , which clearly indicates the target variable is not Normally distributed."
   ]
  },
  {
   "cell_type": "code",
   "execution_count": 20,
   "metadata": {
    "colab": {
     "base_uri": "https://localhost:8080/",
     "height": 361
    },
    "executionInfo": {
     "elapsed": 7864,
     "status": "ok",
     "timestamp": 1601424812487,
     "user": {
      "displayName": "Jagadeesh Varma Indukuri",
      "photoUrl": "https://lh3.googleusercontent.com/a-/AOh14GjMSV2b5VJB3WCiXt_Gotc2D-9GivA_YSghKTL9_g=s64",
      "userId": "04485650824869924790"
     },
     "user_tz": -330
    },
    "id": "8FdnEHF3jQZV",
    "outputId": "a8e47bc2-2405-4890-fb7f-be755655f91d"
   },
   "outputs": [
    {
     "name": "stderr",
     "output_type": "stream",
     "text": [
      "C:\\Users\\pc\\Anaconda3\\envs\\project1\\lib\\site-packages\\seaborn\\distributions.py:2551: FutureWarning: `distplot` is a deprecated function and will be removed in a future version. Please adapt your code to use either `displot` (a figure-level function with similar flexibility) or `histplot` (an axes-level function for histograms).\n",
      "  warnings.warn(msg, FutureWarning)\n"
     ]
    },
    {
     "data": {
      "image/png": "[encoded data removed]",
      "text/plain": [
       "<Figure size 432x288 with 1 Axes>"
      ]
     },
     "metadata": {
      "needs_background": "light"
     },
     "output_type": "display_data"
    }
   ],
   "source": [
    "#The Distribution is Right Skewed\n",
    "# It is transformed to reduce the magnitude \n",
    "import seaborn as sns\n",
    "import numpy as np\n",
    "sns.distplot(np.sqrt(df['sold_price']))\n",
    "plt.savefig('distribution.jpg')"
   ]
  },
  {
   "cell_type": "markdown",
   "metadata": {
    "id": "DI1Tqxn3jQZY"
   },
   "source": [
    "### Data Preprocesssing\n",
    "    # Deriving methods for NaN imputations\n",
    "    # Here I have chossen KNN imputer for the NaN values"
   ]
  },
  {
   "cell_type": "code",
   "execution_count": 21,
   "metadata": {
    "colab": {
     "base_uri": "https://localhost:8080/",
     "height": 138
    },
    "executionInfo": {
     "elapsed": 839,
     "status": "ok",
     "timestamp": 1601424817984,
     "user": {
      "displayName": "Jagadeesh Varma Indukuri",
      "photoUrl": "https://lh3.googleusercontent.com/a-/AOh14GjMSV2b5VJB3WCiXt_Gotc2D-9GivA_YSghKTL9_g=s64",
      "userId": "04485650824869924790"
     },
     "user_tz": -330
    },
    "id": "53CSrcdIjQZZ",
    "outputId": "759d9c3c-463b-455a-d01e-506d1dd11ced"
   },
   "outputs": [
    {
     "data": {
      "text/plain": [
       "attr1              0\n",
       "attr2              0\n",
       "attr3         184946\n",
       "attr4         163773\n",
       "attr6              0\n",
       "sold_price         0\n",
       "dtype: int64"
      ]
     },
     "execution_count": 21,
     "metadata": {},
     "output_type": "execute_result"
    }
   ],
   "source": [
    "df.isna().sum()"
   ]
  },
  {
   "cell_type": "code",
   "execution_count": 22,
   "metadata": {
    "colab": {
     "base_uri": "https://localhost:8080/",
     "height": 241
    },
    "executionInfo": {
     "elapsed": 642,
     "status": "ok",
     "timestamp": 1601424819566,
     "user": {
      "displayName": "Jagadeesh Varma Indukuri",
      "photoUrl": "https://lh3.googleusercontent.com/a-/AOh14GjMSV2b5VJB3WCiXt_Gotc2D-9GivA_YSghKTL9_g=s64",
      "userId": "04485650824869924790"
     },
     "user_tz": -330
    },
    "id": "mMVcYGjHjQZc",
    "outputId": "7d280838-f6fe-481f-f806-887b5e4934e4"
   },
   "outputs": [
    {
     "name": "stdout",
     "output_type": "stream",
     "text": [
      "<class 'pandas.core.frame.DataFrame'>\n",
      "Int64Index: 1019647 entries, 0 to 1029849\n",
      "Data columns (total 6 columns):\n",
      " #   Column      Non-Null Count    Dtype  \n",
      "---  ------      --------------    -----  \n",
      " 0   attr1       1019647 non-null  int64  \n",
      " 1   attr2       1019647 non-null  int64  \n",
      " 2   attr3       834701 non-null   float64\n",
      " 3   attr4       855874 non-null   float64\n",
      " 4   attr6       1019647 non-null  float64\n",
      " 5   sold_price  1019647 non-null  float64\n",
      "dtypes: float64(4), int64(2)\n",
      "memory usage: 54.5 MB\n"
     ]
    }
   ],
   "source": [
    "df.info()"
   ]
  },
  {
   "cell_type": "markdown",
   "metadata": {
    "id": "PrajyVWzjQZf"
   },
   "source": [
    "###### The missing values are present in attr3 and attr4"
   ]
  },
  {
   "cell_type": "code",
   "execution_count": 23,
   "metadata": {
    "colab": {
     "base_uri": "https://localhost:8080/",
     "height": 204
    },
    "executionInfo": {
     "elapsed": 762,
     "status": "ok",
     "timestamp": 1601424822724,
     "user": {
      "displayName": "Jagadeesh Varma Indukuri",
      "photoUrl": "https://lh3.googleusercontent.com/a-/AOh14GjMSV2b5VJB3WCiXt_Gotc2D-9GivA_YSghKTL9_g=s64",
      "userId": "04485650824869924790"
     },
     "user_tz": -330
    },
    "id": "_fqB13mPjQZf",
    "outputId": "ff283499-01e1-4624-86a0-fdf390c8b0be"
   },
   "outputs": [
    {
     "data": {
      "text/html": [
       "<div>\n",
       "<style scoped>\n",
       "    .dataframe tbody tr th:only-of-type {\n",
       "        vertical-align: middle;\n",
       "    }\n",
       "\n",
       "    .dataframe tbody tr th {\n",
       "        vertical-align: top;\n",
       "    }\n",
       "\n",
       "    .dataframe thead th {\n",
       "        text-align: right;\n",
       "    }\n",
       "</style>\n",
       "<table border=\"1\" class=\"dataframe\">\n",
       "  <thead>\n",
       "    <tr style=\"text-align: right;\">\n",
       "      <th></th>\n",
       "      <th>attr1</th>\n",
       "      <th>attr2</th>\n",
       "      <th>attr3</th>\n",
       "      <th>attr4</th>\n",
       "      <th>attr6</th>\n",
       "      <th>sold_price</th>\n",
       "    </tr>\n",
       "  </thead>\n",
       "  <tbody>\n",
       "    <tr>\n",
       "      <th>0</th>\n",
       "      <td>4</td>\n",
       "      <td>27</td>\n",
       "      <td>149.0</td>\n",
       "      <td>3808.0</td>\n",
       "      <td>99.0</td>\n",
       "      <td>65.0</td>\n",
       "    </tr>\n",
       "    <tr>\n",
       "      <th>1</th>\n",
       "      <td>4</td>\n",
       "      <td>3</td>\n",
       "      <td>89.0</td>\n",
       "      <td>1996.0</td>\n",
       "      <td>1500.0</td>\n",
       "      <td>600.0</td>\n",
       "    </tr>\n",
       "    <tr>\n",
       "      <th>2</th>\n",
       "      <td>4</td>\n",
       "      <td>26</td>\n",
       "      <td>301.0</td>\n",
       "      <td>5194.0</td>\n",
       "      <td>89.0</td>\n",
       "      <td>12.0</td>\n",
       "    </tr>\n",
       "    <tr>\n",
       "      <th>3</th>\n",
       "      <td>4</td>\n",
       "      <td>27</td>\n",
       "      <td>NaN</td>\n",
       "      <td>6335.0</td>\n",
       "      <td>0.0</td>\n",
       "      <td>12.0</td>\n",
       "    </tr>\n",
       "    <tr>\n",
       "      <th>4</th>\n",
       "      <td>4</td>\n",
       "      <td>22</td>\n",
       "      <td>302.0</td>\n",
       "      <td>3606.0</td>\n",
       "      <td>45.0</td>\n",
       "      <td>22.0</td>\n",
       "    </tr>\n",
       "  </tbody>\n",
       "</table>\n",
       "</div>"
      ],
      "text/plain": [
       "   attr1  attr2  attr3   attr4   attr6  sold_price\n",
       "0      4     27  149.0  3808.0    99.0        65.0\n",
       "1      4      3   89.0  1996.0  1500.0       600.0\n",
       "2      4     26  301.0  5194.0    89.0        12.0\n",
       "3      4     27    NaN  6335.0     0.0        12.0\n",
       "4      4     22  302.0  3606.0    45.0        22.0"
      ]
     },
     "execution_count": 23,
     "metadata": {},
     "output_type": "execute_result"
    }
   ],
   "source": [
    "df.head()"
   ]
  },
  {
   "cell_type": "markdown",
   "metadata": {
    "id": "N8Oehb3GrkvH"
   },
   "source": [
    "## Before going for imputations,  splitting the data randomly\n",
    "- 10,000 total observations has been taken in to count, due tomemory constraints\n",
    "- 7000 has taken to Training data, 3000 has taken for Testing"
   ]
  },
  {
   "cell_type": "code",
   "execution_count": 24,
   "metadata": {
    "executionInfo": {
     "elapsed": 776,
     "status": "ok",
     "timestamp": 1601424828597,
     "user": {
      "displayName": "Jagadeesh Varma Indukuri",
      "photoUrl": "https://lh3.googleusercontent.com/a-/AOh14GjMSV2b5VJB3WCiXt_Gotc2D-9GivA_YSghKTL9_g=s64",
      "userId": "04485650824869924790"
     },
     "user_tz": -330
    },
    "id": "5S_PFfWCsatw"
   },
   "outputs": [],
   "source": [
    "X=df.iloc[5000:15000,:-1]\n",
    "y=pd.DataFrame(df.iloc[5000:15000,-1])"
   ]
  },
  {
   "cell_type": "code",
   "execution_count": 25,
   "metadata": {
    "colab": {
     "base_uri": "https://localhost:8080/",
     "height": 204
    },
    "executionInfo": {
     "elapsed": 671,
     "status": "ok",
     "timestamp": 1601424832421,
     "user": {
      "displayName": "Jagadeesh Varma Indukuri",
      "photoUrl": "https://lh3.googleusercontent.com/a-/AOh14GjMSV2b5VJB3WCiXt_Gotc2D-9GivA_YSghKTL9_g=s64",
      "userId": "04485650824869924790"
     },
     "user_tz": -330
    },
    "id": "ko94BzlYsr3I",
    "outputId": "2629a5ca-41cf-4e01-c047-140939ca9760"
   },
   "outputs": [
    {
     "data": {
      "text/html": [
       "<div>\n",
       "<style scoped>\n",
       "    .dataframe tbody tr th:only-of-type {\n",
       "        vertical-align: middle;\n",
       "    }\n",
       "\n",
       "    .dataframe tbody tr th {\n",
       "        vertical-align: top;\n",
       "    }\n",
       "\n",
       "    .dataframe thead th {\n",
       "        text-align: right;\n",
       "    }\n",
       "</style>\n",
       "<table border=\"1\" class=\"dataframe\">\n",
       "  <thead>\n",
       "    <tr style=\"text-align: right;\">\n",
       "      <th></th>\n",
       "      <th>attr1</th>\n",
       "      <th>attr2</th>\n",
       "      <th>attr3</th>\n",
       "      <th>attr4</th>\n",
       "      <th>attr6</th>\n",
       "    </tr>\n",
       "  </thead>\n",
       "  <tbody>\n",
       "    <tr>\n",
       "      <th>5000</th>\n",
       "      <td>4</td>\n",
       "      <td>33</td>\n",
       "      <td>271.0</td>\n",
       "      <td>3777.0</td>\n",
       "      <td>0.0</td>\n",
       "    </tr>\n",
       "    <tr>\n",
       "      <th>5001</th>\n",
       "      <td>4</td>\n",
       "      <td>3</td>\n",
       "      <td>14.0</td>\n",
       "      <td>1228.0</td>\n",
       "      <td>328.0</td>\n",
       "    </tr>\n",
       "    <tr>\n",
       "      <th>5002</th>\n",
       "      <td>3</td>\n",
       "      <td>26</td>\n",
       "      <td>168.0</td>\n",
       "      <td>2896.0</td>\n",
       "      <td>705.0</td>\n",
       "    </tr>\n",
       "    <tr>\n",
       "      <th>5003</th>\n",
       "      <td>2</td>\n",
       "      <td>26</td>\n",
       "      <td>40.0</td>\n",
       "      <td>5744.0</td>\n",
       "      <td>100.0</td>\n",
       "    </tr>\n",
       "    <tr>\n",
       "      <th>5004</th>\n",
       "      <td>4</td>\n",
       "      <td>33</td>\n",
       "      <td>267.0</td>\n",
       "      <td>2005.0</td>\n",
       "      <td>0.0</td>\n",
       "    </tr>\n",
       "  </tbody>\n",
       "</table>\n",
       "</div>"
      ],
      "text/plain": [
       "      attr1  attr2  attr3   attr4  attr6\n",
       "5000      4     33  271.0  3777.0    0.0\n",
       "5001      4      3   14.0  1228.0  328.0\n",
       "5002      3     26  168.0  2896.0  705.0\n",
       "5003      2     26   40.0  5744.0  100.0\n",
       "5004      4     33  267.0  2005.0    0.0"
      ]
     },
     "execution_count": 25,
     "metadata": {},
     "output_type": "execute_result"
    }
   ],
   "source": [
    "X.head()"
   ]
  },
  {
   "cell_type": "code",
   "execution_count": 26,
   "metadata": {
    "colab": {
     "base_uri": "https://localhost:8080/",
     "height": 204
    },
    "executionInfo": {
     "elapsed": 10985,
     "status": "ok",
     "timestamp": 1601424366268,
     "user": {
      "displayName": "Jagadeesh Varma Indukuri",
      "photoUrl": "https://lh3.googleusercontent.com/a-/AOh14GjMSV2b5VJB3WCiXt_Gotc2D-9GivA_YSghKTL9_g=s64",
      "userId": "04485650824869924790"
     },
     "user_tz": -330
    },
    "id": "hyPxth5csyNR",
    "outputId": "e2b2b321-546e-4974-e22f-db516b7e4a11"
   },
   "outputs": [
    {
     "data": {
      "text/html": [
       "<div>\n",
       "<style scoped>\n",
       "    .dataframe tbody tr th:only-of-type {\n",
       "        vertical-align: middle;\n",
       "    }\n",
       "\n",
       "    .dataframe tbody tr th {\n",
       "        vertical-align: top;\n",
       "    }\n",
       "\n",
       "    .dataframe thead th {\n",
       "        text-align: right;\n",
       "    }\n",
       "</style>\n",
       "<table border=\"1\" class=\"dataframe\">\n",
       "  <thead>\n",
       "    <tr style=\"text-align: right;\">\n",
       "      <th></th>\n",
       "      <th>sold_price</th>\n",
       "    </tr>\n",
       "  </thead>\n",
       "  <tbody>\n",
       "    <tr>\n",
       "      <th>5000</th>\n",
       "      <td>11.0</td>\n",
       "    </tr>\n",
       "    <tr>\n",
       "      <th>5001</th>\n",
       "      <td>115.0</td>\n",
       "    </tr>\n",
       "    <tr>\n",
       "      <th>5002</th>\n",
       "      <td>300.0</td>\n",
       "    </tr>\n",
       "    <tr>\n",
       "      <th>5003</th>\n",
       "      <td>50.0</td>\n",
       "    </tr>\n",
       "    <tr>\n",
       "      <th>5004</th>\n",
       "      <td>42.0</td>\n",
       "    </tr>\n",
       "  </tbody>\n",
       "</table>\n",
       "</div>"
      ],
      "text/plain": [
       "      sold_price\n",
       "5000        11.0\n",
       "5001       115.0\n",
       "5002       300.0\n",
       "5003        50.0\n",
       "5004        42.0"
      ]
     },
     "execution_count": 26,
     "metadata": {},
     "output_type": "execute_result"
    }
   ],
   "source": [
    "y.head()"
   ]
  },
  {
   "cell_type": "code",
   "execution_count": 27,
   "metadata": {
    "executionInfo": {
     "elapsed": 714,
     "status": "ok",
     "timestamp": 1601424880661,
     "user": {
      "displayName": "Jagadeesh Varma Indukuri",
      "photoUrl": "https://lh3.googleusercontent.com/a-/AOh14GjMSV2b5VJB3WCiXt_Gotc2D-9GivA_YSghKTL9_g=s64",
      "userId": "04485650824869924790"
     },
     "user_tz": -330
    },
    "id": "7fFQhPJ2rjga"
   },
   "outputs": [],
   "source": [
    "from sklearn.model_selection  import train_test_split\n",
    "X_train, X_test, y_train, y_test = train_test_split(X, y, test_size=0.3, random_state=42)"
   ]
  },
  {
   "cell_type": "code",
   "execution_count": 28,
   "metadata": {
    "executionInfo": {
     "elapsed": 868,
     "status": "ok",
     "timestamp": 1601424882249,
     "user": {
      "displayName": "Jagadeesh Varma Indukuri",
      "photoUrl": "https://lh3.googleusercontent.com/a-/AOh14GjMSV2b5VJB3WCiXt_Gotc2D-9GivA_YSghKTL9_g=s64",
      "userId": "04485650824869924790"
     },
     "user_tz": -330
    },
    "id": "b42EURIQVWr4"
   },
   "outputs": [],
   "source": [
    "Train=pd.concat([X_train,y_train],axis=1)"
   ]
  },
  {
   "cell_type": "code",
   "execution_count": 29,
   "metadata": {
    "colab": {
     "base_uri": "https://localhost:8080/",
     "height": 204
    },
    "executionInfo": {
     "elapsed": 868,
     "status": "ok",
     "timestamp": 1601424882820,
     "user": {
      "displayName": "Jagadeesh Varma Indukuri",
      "photoUrl": "https://lh3.googleusercontent.com/a-/AOh14GjMSV2b5VJB3WCiXt_Gotc2D-9GivA_YSghKTL9_g=s64",
      "userId": "04485650824869924790"
     },
     "user_tz": -330
    },
    "id": "nIdAysz8VneT",
    "outputId": "76ec34fa-0cb4-4340-eb29-9dc949fe0757"
   },
   "outputs": [
    {
     "data": {
      "text/html": [
       "<div>\n",
       "<style scoped>\n",
       "    .dataframe tbody tr th:only-of-type {\n",
       "        vertical-align: middle;\n",
       "    }\n",
       "\n",
       "    .dataframe tbody tr th {\n",
       "        vertical-align: top;\n",
       "    }\n",
       "\n",
       "    .dataframe thead th {\n",
       "        text-align: right;\n",
       "    }\n",
       "</style>\n",
       "<table border=\"1\" class=\"dataframe\">\n",
       "  <thead>\n",
       "    <tr style=\"text-align: right;\">\n",
       "      <th></th>\n",
       "      <th>attr1</th>\n",
       "      <th>attr2</th>\n",
       "      <th>attr3</th>\n",
       "      <th>attr4</th>\n",
       "      <th>attr6</th>\n",
       "      <th>sold_price</th>\n",
       "    </tr>\n",
       "  </thead>\n",
       "  <tbody>\n",
       "    <tr>\n",
       "      <th>14069</th>\n",
       "      <td>3</td>\n",
       "      <td>2</td>\n",
       "      <td>24.0</td>\n",
       "      <td>NaN</td>\n",
       "      <td>375.0</td>\n",
       "      <td>169.0</td>\n",
       "    </tr>\n",
       "    <tr>\n",
       "      <th>7603</th>\n",
       "      <td>4</td>\n",
       "      <td>12</td>\n",
       "      <td>NaN</td>\n",
       "      <td>948.0</td>\n",
       "      <td>625.0</td>\n",
       "      <td>220.0</td>\n",
       "    </tr>\n",
       "    <tr>\n",
       "      <th>12738</th>\n",
       "      <td>4</td>\n",
       "      <td>26</td>\n",
       "      <td>138.0</td>\n",
       "      <td>NaN</td>\n",
       "      <td>535.0</td>\n",
       "      <td>300.0</td>\n",
       "    </tr>\n",
       "    <tr>\n",
       "      <th>6579</th>\n",
       "      <td>4</td>\n",
       "      <td>14</td>\n",
       "      <td>44.0</td>\n",
       "      <td>1395.0</td>\n",
       "      <td>1050.0</td>\n",
       "      <td>350.0</td>\n",
       "    </tr>\n",
       "    <tr>\n",
       "      <th>10058</th>\n",
       "      <td>4</td>\n",
       "      <td>3</td>\n",
       "      <td>NaN</td>\n",
       "      <td>1996.0</td>\n",
       "      <td>2500.0</td>\n",
       "      <td>300.0</td>\n",
       "    </tr>\n",
       "  </tbody>\n",
       "</table>\n",
       "</div>"
      ],
      "text/plain": [
       "       attr1  attr2  attr3   attr4   attr6  sold_price\n",
       "14069      3      2   24.0     NaN   375.0       169.0\n",
       "7603       4     12    NaN   948.0   625.0       220.0\n",
       "12738      4     26  138.0     NaN   535.0       300.0\n",
       "6579       4     14   44.0  1395.0  1050.0       350.0\n",
       "10058      4      3    NaN  1996.0  2500.0       300.0"
      ]
     },
     "execution_count": 29,
     "metadata": {},
     "output_type": "execute_result"
    }
   ],
   "source": [
    "Train.head()"
   ]
  },
  {
   "cell_type": "markdown",
   "metadata": {},
   "source": [
    "###### KNN imputation for NaN values"
   ]
  },
  {
   "cell_type": "code",
   "execution_count": 30,
   "metadata": {},
   "outputs": [],
   "source": [
    "from sklearn.impute import KNNImputer\n",
    "\n",
    "imputer = KNNImputer(n_neighbors= 3)\n",
    "imputer_train = imputer.fit_transform(Train)"
   ]
  },
  {
   "cell_type": "markdown",
   "metadata": {},
   "source": [
    "## Renaming the column names"
   ]
  },
  {
   "cell_type": "code",
   "execution_count": 31,
   "metadata": {
    "executionInfo": {
     "elapsed": 87936,
     "status": "aborted",
     "timestamp": 1601424443237,
     "user": {
      "displayName": "Jagadeesh Varma Indukuri",
      "photoUrl": "https://lh3.googleusercontent.com/a-/AOh14GjMSV2b5VJB3WCiXt_Gotc2D-9GivA_YSghKTL9_g=s64",
      "userId": "04485650824869924790"
     },
     "user_tz": -330
    },
    "id": "2vZkKb0YsZpu"
   },
   "outputs": [],
   "source": [
    "df_imputed_train=pd.DataFrame(imputer_train)\n",
    "df_imputed_train.rename(columns={0:'attr1',1:'attr2',2:'attr3',3:'attr4',4:'attr6',5:'sold_price'},inplace=True)\n",
    "\n"
   ]
  },
  {
   "cell_type": "markdown",
   "metadata": {},
   "source": [
    "## Standardising the Train Dataset\n",
    "- Applying Labelling to the categorical attributes [1,2,3,4]\n",
    "- Applying MinMaxScaler to the numerical variables Attr 6, Sold_price"
   ]
  },
  {
   "cell_type": "code",
   "execution_count": 32,
   "metadata": {},
   "outputs": [],
   "source": [
    "from sklearn.preprocessing import MinMaxScaler, LabelEncoder,StandardScaler\n",
    "\n",
    "list_cat=['attr1','attr2','attr3','attr4']\n",
    "list_num=['attr6','sold_price']\n",
    "\n",
    "for i in list_cat:\n",
    "    df_imputed_train[i]=LabelEncoder().fit_transform(df_imputed_train[i])\n",
    "for i in list_num:\n",
    "    df_imputed_train[i]=MinMaxScaler().fit_transform(df_imputed_train[i].values.reshape(-1,1))\n",
    "\n"
   ]
  },
  {
   "cell_type": "markdown",
   "metadata": {},
   "source": [
    "###### Changing the data types from int to float"
   ]
  },
  {
   "cell_type": "code",
   "execution_count": 33,
   "metadata": {
    "executionInfo": {
     "elapsed": 87936,
     "status": "aborted",
     "timestamp": 1601424443240,
     "user": {
      "displayName": "Jagadeesh Varma Indukuri",
      "photoUrl": "https://lh3.googleusercontent.com/a-/AOh14GjMSV2b5VJB3WCiXt_Gotc2D-9GivA_YSghKTL9_g=s64",
      "userId": "04485650824869924790"
     },
     "user_tz": -330
    },
    "id": "CdtdS8ng3I5_"
   },
   "outputs": [
    {
     "data": {
      "text/plain": [
       "(7000, 6)"
      ]
     },
     "execution_count": 33,
     "metadata": {},
     "output_type": "execute_result"
    }
   ],
   "source": [
    "list22=['attr1','attr2','attr3','attr3','attr4']\n",
    "for i in list22:\n",
    "    df_imputed_train[i]=df_imputed_train[i].astype('category')\n",
    "\n",
    "df_imputed_train.shape"
   ]
  },
  {
   "cell_type": "code",
   "execution_count": 34,
   "metadata": {},
   "outputs": [
    {
     "name": "stdout",
     "output_type": "stream",
     "text": [
      "<class 'pandas.core.frame.DataFrame'>\n",
      "RangeIndex: 7000 entries, 0 to 6999\n",
      "Data columns (total 6 columns):\n",
      " #   Column      Non-Null Count  Dtype   \n",
      "---  ------      --------------  -----   \n",
      " 0   attr1       7000 non-null   category\n",
      " 1   attr2       7000 non-null   category\n",
      " 2   attr3       7000 non-null   category\n",
      " 3   attr4       7000 non-null   category\n",
      " 4   attr6       7000 non-null   float64 \n",
      " 5   sold_price  7000 non-null   float64 \n",
      "dtypes: category(4), float64(2)\n",
      "memory usage: 273.3 KB\n"
     ]
    }
   ],
   "source": [
    "df_imputed_train.info()"
   ]
  },
  {
   "cell_type": "markdown",
   "metadata": {},
   "source": [
    "## Checking for Tranformations\n",
    "- Assumption lies that the Target variable should be a Normal distribution curve"
   ]
  },
  {
   "cell_type": "code",
   "execution_count": 35,
   "metadata": {},
   "outputs": [
    {
     "name": "stderr",
     "output_type": "stream",
     "text": [
      "C:\\Users\\pc\\Anaconda3\\envs\\project1\\lib\\site-packages\\seaborn\\distributions.py:2551: FutureWarning: `distplot` is a deprecated function and will be removed in a future version. Please adapt your code to use either `displot` (a figure-level function with similar flexibility) or `histplot` (an axes-level function for histograms).\n",
      "  warnings.warn(msg, FutureWarning)\n"
     ]
    },
    {
     "data": {
      "image/png": "[encoded data removed]",
      "text/plain": [
       "<Figure size 432x288 with 1 Axes>"
      ]
     },
     "metadata": {
      "needs_background": "light"
     },
     "output_type": "display_data"
    }
   ],
   "source": [
    "from math import sqrt,log\n",
    "import numpy as np\n",
    "#The Distribution is Right Skewd\n",
    "df_lod=np.sqrt(df_imputed_train['sold_price'])\n",
    "sns.distplot((df_lod))\n",
    "plt.savefig('distribution.jpg')"
   ]
  },
  {
   "cell_type": "markdown",
   "metadata": {},
   "source": [
    "###### Q-Q plot shows how our data is devaiting from the standard Normal "
   ]
  },
  {
   "cell_type": "code",
   "execution_count": 36,
   "metadata": {},
   "outputs": [
    {
     "data": {
      "image/png": "[encoded data removed]",
      "text/plain": [
       "<Figure size 432x288 with 1 Axes>"
      ]
     },
     "metadata": {
      "needs_background": "light"
     },
     "output_type": "display_data"
    }
   ],
   "source": [
    "### Q-Q plot for Target variable to check the deviation\n",
    "import numpy as np \n",
    "import statsmodels.api as sm \n",
    "import pylab as py \n",
    "import matplotlib.pyplot\n",
    "    \n",
    "sm.qqplot(df_imputed_train['sold_price'], line ='45')\n",
    "py.show() "
   ]
  },
  {
   "cell_type": "code",
   "execution_count": 37,
   "metadata": {},
   "outputs": [
    {
     "data": {
      "image/png": "[encoded data removed]",
      "text/plain": [
       "<Figure size 432x288 with 1 Axes>"
      ]
     },
     "metadata": {
      "needs_background": "light"
     },
     "output_type": "display_data"
    }
   ],
   "source": [
    "### Q-Q plot for feature with 'attr6' to check the deviation\n",
    "sm.qqplot(df_imputed_train['attr6'], line ='45')\n",
    "py.show()"
   ]
  },
  {
   "cell_type": "code",
   "execution_count": 38,
   "metadata": {
    "executionInfo": {
     "elapsed": 87934,
     "status": "aborted",
     "timestamp": 1601424443241,
     "user": {
      "displayName": "Jagadeesh Varma Indukuri",
      "photoUrl": "https://lh3.googleusercontent.com/a-/AOh14GjMSV2b5VJB3WCiXt_Gotc2D-9GivA_YSghKTL9_g=s64",
      "userId": "04485650824869924790"
     },
     "user_tz": -330
    },
    "id": "dVl09vkz2vGO"
   },
   "outputs": [],
   "source": [
    "from sklearn.impute import KNNImputer\n",
    "\n",
    "imputer = KNNImputer(n_neighbors= 3)\n",
    "imputer_test = imputer.fit_transform(pd.concat([X_test,y_test],axis=1))"
   ]
  },
  {
   "cell_type": "code",
   "execution_count": 39,
   "metadata": {
    "executionInfo": {
     "elapsed": 87932,
     "status": "aborted",
     "timestamp": 1601424443242,
     "user": {
      "displayName": "Jagadeesh Varma Indukuri",
      "photoUrl": "https://lh3.googleusercontent.com/a-/AOh14GjMSV2b5VJB3WCiXt_Gotc2D-9GivA_YSghKTL9_g=s64",
      "userId": "04485650824869924790"
     },
     "user_tz": -330
    },
    "id": "H_qEW74d25Ys"
   },
   "outputs": [],
   "source": [
    "df_imputed_test=pd.DataFrame(imputer_test)\n",
    "df_imputed_test.rename(columns={0:'attr1',1:'attr2',2:'attr3',3:'attr4',4:'attr6',5:'sold_price'},inplace=True)\n"
   ]
  },
  {
   "cell_type": "markdown",
   "metadata": {},
   "source": [
    "## Standardising the Test Dataset\n",
    "- Applying Labelling to the categorical attributes [1,2,3,4]\n",
    "- Applying MinMaxScaler to the numerical variables Attr 6, Sold_price"
   ]
  },
  {
   "cell_type": "code",
   "execution_count": 40,
   "metadata": {},
   "outputs": [],
   "source": [
    "from sklearn.preprocessing import MinMaxScaler, LabelEncoder,StandardScaler\n",
    "\n",
    "list_cat=['attr1','attr2','attr3','attr4']\n",
    "list_num=['attr6','sold_price']\n",
    "\n",
    "for i in list_cat:\n",
    "    df_imputed_test[i]=LabelEncoder().fit_transform(df_imputed_test[i])\n",
    "for i in list_num:\n",
    "    df_imputed_test[i]=MinMaxScaler().fit_transform(df_imputed_test[i].values.reshape(-1,1))\n",
    "\n"
   ]
  },
  {
   "cell_type": "code",
   "execution_count": 41,
   "metadata": {
    "executionInfo": {
     "elapsed": 87930,
     "status": "aborted",
     "timestamp": 1601424443243,
     "user": {
      "displayName": "Jagadeesh Varma Indukuri",
      "photoUrl": "https://lh3.googleusercontent.com/a-/AOh14GjMSV2b5VJB3WCiXt_Gotc2D-9GivA_YSghKTL9_g=s64",
      "userId": "04485650824869924790"
     },
     "user_tz": -330
    },
    "id": "ExNl0lwnv3Qg"
   },
   "outputs": [
    {
     "data": {
      "text/plain": [
       "(3000, 6)"
      ]
     },
     "execution_count": 41,
     "metadata": {},
     "output_type": "execute_result"
    }
   ],
   "source": [
    "list22=['attr1','attr2','attr3','attr3','attr4']\n",
    "for i in list22:\n",
    "  df_imputed_test[i]=df_imputed_test[i].astype('category')\n",
    "\n",
    "df_imputed_test.shape"
   ]
  },
  {
   "cell_type": "code",
   "execution_count": 42,
   "metadata": {},
   "outputs": [
    {
     "name": "stdout",
     "output_type": "stream",
     "text": [
      "<class 'pandas.core.frame.DataFrame'>\n",
      "RangeIndex: 3000 entries, 0 to 2999\n",
      "Data columns (total 6 columns):\n",
      " #   Column      Non-Null Count  Dtype   \n",
      "---  ------      --------------  -----   \n",
      " 0   attr1       3000 non-null   category\n",
      " 1   attr2       3000 non-null   category\n",
      " 2   attr3       3000 non-null   category\n",
      " 3   attr4       3000 non-null   category\n",
      " 4   attr6       3000 non-null   float64 \n",
      " 5   sold_price  3000 non-null   float64 \n",
      "dtypes: category(4), float64(2)\n",
      "memory usage: 138.6 KB\n"
     ]
    }
   ],
   "source": [
    "df_imputed_test.info()"
   ]
  },
  {
   "cell_type": "markdown",
   "metadata": {},
   "source": [
    "##### From this time our Independent variables as :X_tr, X_ts ,\n",
    "###### Target variables as : y_tr, y_ts"
   ]
  },
  {
   "cell_type": "code",
   "execution_count": 43,
   "metadata": {
    "executionInfo": {
     "elapsed": 87928,
     "status": "aborted",
     "timestamp": 1601424443244,
     "user": {
      "displayName": "Jagadeesh Varma Indukuri",
      "photoUrl": "https://lh3.googleusercontent.com/a-/AOh14GjMSV2b5VJB3WCiXt_Gotc2D-9GivA_YSghKTL9_g=s64",
      "userId": "04485650824869924790"
     },
     "user_tz": -330
    },
    "id": "O3vJRGM5rjpQ"
   },
   "outputs": [
    {
     "name": "stdout",
     "output_type": "stream",
     "text": [
      "(7000, 5) (3000, 5) (7000,) (3000,)\n"
     ]
    }
   ],
   "source": [
    "X_tr=df_imputed_train.iloc[:,:-1]\n",
    "X_ts=df_imputed_test.iloc[:,:-1]\n",
    "y_tr=df_imputed_train.iloc[:,-1]\n",
    "y_ts=df_imputed_test.iloc[:,-1]\n",
    "\n",
    "print(X_tr.shape,X_test.shape,y_tr.shape,y_ts.shape)"
   ]
  },
  {
   "cell_type": "markdown",
   "metadata": {
    "id": "NoC0Mv2f3xbf"
   },
   "source": [
    "###### Checking with Model implementation"
   ]
  },
  {
   "cell_type": "markdown",
   "metadata": {},
   "source": [
    "## Linear Regression Model"
   ]
  },
  {
   "cell_type": "markdown",
   "metadata": {},
   "source": [
    "##### In parametric models we apply to do one hot encoding  since every prameter is important to get the correlation to the target variable"
   ]
  },
  {
   "cell_type": "code",
   "execution_count": 44,
   "metadata": {},
   "outputs": [],
   "source": [
    "X_tr_Lin=pd.get_dummies(X_tr)\n",
    "X_ts_Lin=pd.get_dummies(X_ts)"
   ]
  },
  {
   "cell_type": "markdown",
   "metadata": {},
   "source": [
    "##### If we clearly observe X_tr and X_ts doesnt have same unique features, hence for Linear model going with one hot encoding is not feseable\n",
    "##### Hence we stick to the label encoding."
   ]
  },
  {
   "cell_type": "code",
   "execution_count": 45,
   "metadata": {},
   "outputs": [
    {
     "name": "stdout",
     "output_type": "stream",
     "text": [
      "attr1       4\n",
      "attr2      34\n",
      "attr3     618\n",
      "attr4    2083\n",
      "attr6     629\n",
      "dtype: int64\n",
      "attr1       4\n",
      "attr2      33\n",
      "attr3     452\n",
      "attr4    1123\n",
      "attr6     467\n",
      "dtype: int64\n"
     ]
    }
   ],
   "source": [
    "print(X_tr.nunique())\n",
    "print(X_ts.nunique())"
   ]
  },
  {
   "cell_type": "markdown",
   "metadata": {},
   "source": [
    "##### We have total 2740 features "
   ]
  },
  {
   "cell_type": "code",
   "execution_count": 46,
   "metadata": {},
   "outputs": [
    {
     "data": {
      "text/html": [
       "<div>\n",
       "<style scoped>\n",
       "    .dataframe tbody tr th:only-of-type {\n",
       "        vertical-align: middle;\n",
       "    }\n",
       "\n",
       "    .dataframe tbody tr th {\n",
       "        vertical-align: top;\n",
       "    }\n",
       "\n",
       "    .dataframe thead th {\n",
       "        text-align: right;\n",
       "    }\n",
       "</style>\n",
       "<table border=\"1\" class=\"dataframe\">\n",
       "  <thead>\n",
       "    <tr style=\"text-align: right;\">\n",
       "      <th></th>\n",
       "      <th>attr6</th>\n",
       "      <th>attr1_0</th>\n",
       "      <th>attr1_1</th>\n",
       "      <th>attr1_2</th>\n",
       "      <th>attr1_3</th>\n",
       "      <th>attr2_0</th>\n",
       "      <th>attr2_1</th>\n",
       "      <th>attr2_2</th>\n",
       "      <th>attr2_3</th>\n",
       "      <th>attr2_4</th>\n",
       "      <th>...</th>\n",
       "      <th>attr4_2073</th>\n",
       "      <th>attr4_2074</th>\n",
       "      <th>attr4_2075</th>\n",
       "      <th>attr4_2076</th>\n",
       "      <th>attr4_2077</th>\n",
       "      <th>attr4_2078</th>\n",
       "      <th>attr4_2079</th>\n",
       "      <th>attr4_2080</th>\n",
       "      <th>attr4_2081</th>\n",
       "      <th>attr4_2082</th>\n",
       "    </tr>\n",
       "  </thead>\n",
       "  <tbody>\n",
       "    <tr>\n",
       "      <th>0</th>\n",
       "      <td>0.000375</td>\n",
       "      <td>0</td>\n",
       "      <td>0</td>\n",
       "      <td>1</td>\n",
       "      <td>0</td>\n",
       "      <td>0</td>\n",
       "      <td>1</td>\n",
       "      <td>0</td>\n",
       "      <td>0</td>\n",
       "      <td>0</td>\n",
       "      <td>...</td>\n",
       "      <td>0</td>\n",
       "      <td>0</td>\n",
       "      <td>0</td>\n",
       "      <td>0</td>\n",
       "      <td>0</td>\n",
       "      <td>0</td>\n",
       "      <td>0</td>\n",
       "      <td>0</td>\n",
       "      <td>0</td>\n",
       "      <td>0</td>\n",
       "    </tr>\n",
       "    <tr>\n",
       "      <th>1</th>\n",
       "      <td>0.000625</td>\n",
       "      <td>0</td>\n",
       "      <td>0</td>\n",
       "      <td>0</td>\n",
       "      <td>1</td>\n",
       "      <td>0</td>\n",
       "      <td>0</td>\n",
       "      <td>0</td>\n",
       "      <td>0</td>\n",
       "      <td>0</td>\n",
       "      <td>...</td>\n",
       "      <td>0</td>\n",
       "      <td>0</td>\n",
       "      <td>0</td>\n",
       "      <td>0</td>\n",
       "      <td>0</td>\n",
       "      <td>0</td>\n",
       "      <td>0</td>\n",
       "      <td>0</td>\n",
       "      <td>0</td>\n",
       "      <td>0</td>\n",
       "    </tr>\n",
       "    <tr>\n",
       "      <th>2</th>\n",
       "      <td>0.000535</td>\n",
       "      <td>0</td>\n",
       "      <td>0</td>\n",
       "      <td>0</td>\n",
       "      <td>1</td>\n",
       "      <td>0</td>\n",
       "      <td>0</td>\n",
       "      <td>0</td>\n",
       "      <td>0</td>\n",
       "      <td>0</td>\n",
       "      <td>...</td>\n",
       "      <td>0</td>\n",
       "      <td>0</td>\n",
       "      <td>0</td>\n",
       "      <td>0</td>\n",
       "      <td>0</td>\n",
       "      <td>0</td>\n",
       "      <td>0</td>\n",
       "      <td>0</td>\n",
       "      <td>0</td>\n",
       "      <td>0</td>\n",
       "    </tr>\n",
       "    <tr>\n",
       "      <th>3</th>\n",
       "      <td>0.001050</td>\n",
       "      <td>0</td>\n",
       "      <td>0</td>\n",
       "      <td>0</td>\n",
       "      <td>1</td>\n",
       "      <td>0</td>\n",
       "      <td>0</td>\n",
       "      <td>0</td>\n",
       "      <td>0</td>\n",
       "      <td>0</td>\n",
       "      <td>...</td>\n",
       "      <td>0</td>\n",
       "      <td>0</td>\n",
       "      <td>0</td>\n",
       "      <td>0</td>\n",
       "      <td>0</td>\n",
       "      <td>0</td>\n",
       "      <td>0</td>\n",
       "      <td>0</td>\n",
       "      <td>0</td>\n",
       "      <td>0</td>\n",
       "    </tr>\n",
       "    <tr>\n",
       "      <th>4</th>\n",
       "      <td>0.002500</td>\n",
       "      <td>0</td>\n",
       "      <td>0</td>\n",
       "      <td>0</td>\n",
       "      <td>1</td>\n",
       "      <td>0</td>\n",
       "      <td>0</td>\n",
       "      <td>1</td>\n",
       "      <td>0</td>\n",
       "      <td>0</td>\n",
       "      <td>...</td>\n",
       "      <td>0</td>\n",
       "      <td>0</td>\n",
       "      <td>0</td>\n",
       "      <td>0</td>\n",
       "      <td>0</td>\n",
       "      <td>0</td>\n",
       "      <td>0</td>\n",
       "      <td>0</td>\n",
       "      <td>0</td>\n",
       "      <td>0</td>\n",
       "    </tr>\n",
       "  </tbody>\n",
       "</table>\n",
       "<p>5 rows × 2740 columns</p>\n",
       "</div>"
      ],
      "text/plain": [
       "      attr6  attr1_0  attr1_1  attr1_2  attr1_3  attr2_0  attr2_1  attr2_2  \\\n",
       "0  0.000375        0        0        1        0        0        1        0   \n",
       "1  0.000625        0        0        0        1        0        0        0   \n",
       "2  0.000535        0        0        0        1        0        0        0   \n",
       "3  0.001050        0        0        0        1        0        0        0   \n",
       "4  0.002500        0        0        0        1        0        0        1   \n",
       "\n",
       "   attr2_3  attr2_4  ...  attr4_2073  attr4_2074  attr4_2075  attr4_2076  \\\n",
       "0        0        0  ...           0           0           0           0   \n",
       "1        0        0  ...           0           0           0           0   \n",
       "2        0        0  ...           0           0           0           0   \n",
       "3        0        0  ...           0           0           0           0   \n",
       "4        0        0  ...           0           0           0           0   \n",
       "\n",
       "   attr4_2077  attr4_2078  attr4_2079  attr4_2080  attr4_2081  attr4_2082  \n",
       "0           0           0           0           0           0           0  \n",
       "1           0           0           0           0           0           0  \n",
       "2           0           0           0           0           0           0  \n",
       "3           0           0           0           0           0           0  \n",
       "4           0           0           0           0           0           0  \n",
       "\n",
       "[5 rows x 2740 columns]"
      ]
     },
     "execution_count": 46,
     "metadata": {},
     "output_type": "execute_result"
    }
   ],
   "source": [
    "X_tr_Lin.head()"
   ]
  },
  {
   "cell_type": "markdown",
   "metadata": {},
   "source": [
    "##### We have total 1613 features in test set"
   ]
  },
  {
   "cell_type": "code",
   "execution_count": 47,
   "metadata": {},
   "outputs": [
    {
     "data": {
      "text/html": [
       "<div>\n",
       "<style scoped>\n",
       "    .dataframe tbody tr th:only-of-type {\n",
       "        vertical-align: middle;\n",
       "    }\n",
       "\n",
       "    .dataframe tbody tr th {\n",
       "        vertical-align: top;\n",
       "    }\n",
       "\n",
       "    .dataframe thead th {\n",
       "        text-align: right;\n",
       "    }\n",
       "</style>\n",
       "<table border=\"1\" class=\"dataframe\">\n",
       "  <thead>\n",
       "    <tr style=\"text-align: right;\">\n",
       "      <th></th>\n",
       "      <th>attr6</th>\n",
       "      <th>attr1_0</th>\n",
       "      <th>attr1_1</th>\n",
       "      <th>attr1_2</th>\n",
       "      <th>attr1_3</th>\n",
       "      <th>attr2_0</th>\n",
       "      <th>attr2_1</th>\n",
       "      <th>attr2_2</th>\n",
       "      <th>attr2_3</th>\n",
       "      <th>attr2_4</th>\n",
       "      <th>...</th>\n",
       "      <th>attr4_1113</th>\n",
       "      <th>attr4_1114</th>\n",
       "      <th>attr4_1115</th>\n",
       "      <th>attr4_1116</th>\n",
       "      <th>attr4_1117</th>\n",
       "      <th>attr4_1118</th>\n",
       "      <th>attr4_1119</th>\n",
       "      <th>attr4_1120</th>\n",
       "      <th>attr4_1121</th>\n",
       "      <th>attr4_1122</th>\n",
       "    </tr>\n",
       "  </thead>\n",
       "  <tbody>\n",
       "    <tr>\n",
       "      <th>0</th>\n",
       "      <td>0.000000</td>\n",
       "      <td>0</td>\n",
       "      <td>0</td>\n",
       "      <td>0</td>\n",
       "      <td>1</td>\n",
       "      <td>0</td>\n",
       "      <td>0</td>\n",
       "      <td>0</td>\n",
       "      <td>0</td>\n",
       "      <td>0</td>\n",
       "      <td>...</td>\n",
       "      <td>0</td>\n",
       "      <td>0</td>\n",
       "      <td>0</td>\n",
       "      <td>0</td>\n",
       "      <td>0</td>\n",
       "      <td>0</td>\n",
       "      <td>0</td>\n",
       "      <td>0</td>\n",
       "      <td>0</td>\n",
       "      <td>0</td>\n",
       "    </tr>\n",
       "    <tr>\n",
       "      <th>1</th>\n",
       "      <td>0.000025</td>\n",
       "      <td>0</td>\n",
       "      <td>0</td>\n",
       "      <td>0</td>\n",
       "      <td>1</td>\n",
       "      <td>0</td>\n",
       "      <td>0</td>\n",
       "      <td>0</td>\n",
       "      <td>0</td>\n",
       "      <td>0</td>\n",
       "      <td>...</td>\n",
       "      <td>0</td>\n",
       "      <td>0</td>\n",
       "      <td>0</td>\n",
       "      <td>0</td>\n",
       "      <td>0</td>\n",
       "      <td>0</td>\n",
       "      <td>0</td>\n",
       "      <td>0</td>\n",
       "      <td>0</td>\n",
       "      <td>0</td>\n",
       "    </tr>\n",
       "    <tr>\n",
       "      <th>2</th>\n",
       "      <td>0.000048</td>\n",
       "      <td>0</td>\n",
       "      <td>1</td>\n",
       "      <td>0</td>\n",
       "      <td>0</td>\n",
       "      <td>0</td>\n",
       "      <td>0</td>\n",
       "      <td>0</td>\n",
       "      <td>0</td>\n",
       "      <td>0</td>\n",
       "      <td>...</td>\n",
       "      <td>0</td>\n",
       "      <td>0</td>\n",
       "      <td>0</td>\n",
       "      <td>0</td>\n",
       "      <td>0</td>\n",
       "      <td>0</td>\n",
       "      <td>0</td>\n",
       "      <td>0</td>\n",
       "      <td>0</td>\n",
       "      <td>0</td>\n",
       "    </tr>\n",
       "    <tr>\n",
       "      <th>3</th>\n",
       "      <td>0.000085</td>\n",
       "      <td>0</td>\n",
       "      <td>0</td>\n",
       "      <td>1</td>\n",
       "      <td>0</td>\n",
       "      <td>0</td>\n",
       "      <td>0</td>\n",
       "      <td>0</td>\n",
       "      <td>0</td>\n",
       "      <td>0</td>\n",
       "      <td>...</td>\n",
       "      <td>0</td>\n",
       "      <td>0</td>\n",
       "      <td>0</td>\n",
       "      <td>0</td>\n",
       "      <td>0</td>\n",
       "      <td>0</td>\n",
       "      <td>0</td>\n",
       "      <td>0</td>\n",
       "      <td>0</td>\n",
       "      <td>0</td>\n",
       "    </tr>\n",
       "    <tr>\n",
       "      <th>4</th>\n",
       "      <td>0.000099</td>\n",
       "      <td>0</td>\n",
       "      <td>0</td>\n",
       "      <td>0</td>\n",
       "      <td>1</td>\n",
       "      <td>0</td>\n",
       "      <td>0</td>\n",
       "      <td>0</td>\n",
       "      <td>0</td>\n",
       "      <td>0</td>\n",
       "      <td>...</td>\n",
       "      <td>0</td>\n",
       "      <td>0</td>\n",
       "      <td>0</td>\n",
       "      <td>0</td>\n",
       "      <td>0</td>\n",
       "      <td>0</td>\n",
       "      <td>0</td>\n",
       "      <td>0</td>\n",
       "      <td>0</td>\n",
       "      <td>0</td>\n",
       "    </tr>\n",
       "  </tbody>\n",
       "</table>\n",
       "<p>5 rows × 1613 columns</p>\n",
       "</div>"
      ],
      "text/plain": [
       "      attr6  attr1_0  attr1_1  attr1_2  attr1_3  attr2_0  attr2_1  attr2_2  \\\n",
       "0  0.000000        0        0        0        1        0        0        0   \n",
       "1  0.000025        0        0        0        1        0        0        0   \n",
       "2  0.000048        0        1        0        0        0        0        0   \n",
       "3  0.000085        0        0        1        0        0        0        0   \n",
       "4  0.000099        0        0        0        1        0        0        0   \n",
       "\n",
       "   attr2_3  attr2_4  ...  attr4_1113  attr4_1114  attr4_1115  attr4_1116  \\\n",
       "0        0        0  ...           0           0           0           0   \n",
       "1        0        0  ...           0           0           0           0   \n",
       "2        0        0  ...           0           0           0           0   \n",
       "3        0        0  ...           0           0           0           0   \n",
       "4        0        0  ...           0           0           0           0   \n",
       "\n",
       "   attr4_1117  attr4_1118  attr4_1119  attr4_1120  attr4_1121  attr4_1122  \n",
       "0           0           0           0           0           0           0  \n",
       "1           0           0           0           0           0           0  \n",
       "2           0           0           0           0           0           0  \n",
       "3           0           0           0           0           0           0  \n",
       "4           0           0           0           0           0           0  \n",
       "\n",
       "[5 rows x 1613 columns]"
      ]
     },
     "execution_count": 47,
     "metadata": {},
     "output_type": "execute_result"
    }
   ],
   "source": [
    "X_ts_Lin.head()"
   ]
  },
  {
   "cell_type": "code",
   "execution_count": 48,
   "metadata": {
    "executionInfo": {
     "elapsed": 87926,
     "status": "aborted",
     "timestamp": 1601424443245,
     "user": {
      "displayName": "Jagadeesh Varma Indukuri",
      "photoUrl": "https://lh3.googleusercontent.com/a-/AOh14GjMSV2b5VJB3WCiXt_Gotc2D-9GivA_YSghKTL9_g=s64",
      "userId": "04485650824869924790"
     },
     "user_tz": -330
    },
    "id": "8z34JYaY60Ra"
   },
   "outputs": [
    {
     "data": {
      "text/plain": [
       "LinearRegression()"
      ]
     },
     "execution_count": 48,
     "metadata": {},
     "output_type": "execute_result"
    }
   ],
   "source": [
    "from sklearn.linear_model import LinearRegression\n",
    "\n",
    "Lin=LinearRegression()\n",
    "Lin.fit(X_tr,y_tr)"
   ]
  },
  {
   "cell_type": "markdown",
   "metadata": {},
   "source": [
    "## Test Results Linear Regression\n",
    "##### - Mean squared error and Ajusted R2 are the paramters taken in to consideration to evaluate the model\n",
    "    1) Adjusted R^2 which tells how good our model is, how well the target variable is related to Independent columns.\\\n",
    "    2) Root mean squared Error tells about the same , how much our model is devating from the actual. "
   ]
  },
  {
   "cell_type": "code",
   "execution_count": 49,
   "metadata": {
    "executionInfo": {
     "elapsed": 87924,
     "status": "aborted",
     "timestamp": 1601424443246,
     "user": {
      "displayName": "Jagadeesh Varma Indukuri",
      "photoUrl": "https://lh3.googleusercontent.com/a-/AOh14GjMSV2b5VJB3WCiXt_Gotc2D-9GivA_YSghKTL9_g=s64",
      "userId": "04485650824869924790"
     },
     "user_tz": -330
    },
    "id": "8ogK92KX4buK"
   },
   "outputs": [
    {
     "name": "stdout",
     "output_type": "stream",
     "text": [
      "Root mean squared error for unseen data Linear Regression: 0.05310010043907203  \n",
      "\n",
      "Adjusted R^2 corrleation value on unseen data Linear Regression: 0.12278710041464891  \n",
      "\n",
      "Root mean squared error on train data  Linear Regression: 0.041082569500897205  \n",
      "\n",
      "Adjusted R^2 corrleation value on Train data Linear Regression: 0.13213094193209507  \n",
      "\n"
     ]
    }
   ],
   "source": [
    "from sklearn.metrics import mean_squared_error,r2_score\n",
    "from math import sqrt\n",
    "\n",
    "y_pred_ts=Lin.predict(X_ts)\n",
    "\n",
    "rms_test = sqrt(mean_squared_error(y_ts, y_pred_ts))\n",
    "r2_value=r2_score(y_ts,y_pred_ts)\n",
    "\n",
    "# Adjusted R Squared\n",
    "Adjusted_R2 = 1 - (1-r2_value)*(len(y_ts)-1)/(len(y_ts)-X_ts.shape[1]-1)\n",
    "\n",
    "\n",
    "print('Root mean squared error for unseen data Linear Regression:',rms_test,\" \\n\")\n",
    "print('Adjusted R^2 corrleation value on unseen data Linear Regression:',Adjusted_R2,\" \\n\")\n",
    "\n",
    "y_pred_tr=Lin.predict(X_tr)\n",
    "\n",
    "rms_train = sqrt(mean_squared_error(y_tr, y_pred_tr))\n",
    "r2_value=r2_score(y_tr,y_pred_tr)\n",
    "\n",
    "Adjusted_R2 = 1 - (1-r2_value)*(len(y_tr)-1)/(len(y_tr)-X_tr.shape[1]-1)\n",
    "\n",
    "print('Root mean squared error on train data  Linear Regression:',rms_train,\" \\n\")\n",
    "print('Adjusted R^2 corrleation value on Train data Linear Regression:',Adjusted_R2,\" \\n\")\n"
   ]
  },
  {
   "cell_type": "markdown",
   "metadata": {},
   "source": [
    "##### Cross validation on Train Dataset\n",
    "- _Checking the cross validation using <b>Negative Root mean squred error</b> as the metric on the Train dataset Linear Regression Model_.\n"
   ]
  },
  {
   "cell_type": "code",
   "execution_count": 50,
   "metadata": {},
   "outputs": [
    {
     "name": "stdout",
     "output_type": "stream",
     "text": [
      "[CV]  ................................................................\n",
      "[CV] ................................................. , total=   0.0s\n",
      "[CV]  ................................................................\n",
      "[CV] ................................................. , total=   0.0s\n",
      "[CV]  ................................................................\n",
      "[CV] ................................................. , total=   0.0s\n",
      "[CV]  ................................................................\n",
      "[CV] ................................................. , total=   0.0s\n",
      "[CV]  ................................................................\n",
      "[CV] ................................................. , total=   0.0s\n",
      "Negative mean_squared_error value -0.040979278177371556 Negative mean_squared_error Variance      0.003616382748620527\n"
     ]
    },
    {
     "name": "stderr",
     "output_type": "stream",
     "text": [
      "[Parallel(n_jobs=1)]: Using backend SequentialBackend with 1 concurrent workers.\n",
      "[Parallel(n_jobs=1)]: Done   1 out of   1 | elapsed:    0.0s remaining:    0.0s\n",
      "[Parallel(n_jobs=1)]: Done   5 out of   5 | elapsed:    0.0s finished\n"
     ]
    }
   ],
   "source": [
    "from sklearn.model_selection import cross_val_score \n",
    "Lin=LinearRegression()\n",
    "neg_MSE = cross_val_score(estimator = Lin, X = X_tr,\\\n",
    "     y = y_tr, cv = 5,verbose=2,scoring='neg_root_mean_squared_error')\n",
    "print(\"Negative mean_squared_error value {} Negative mean_squared_error Variance \\\n",
    "     {}\".format(neg_MSE.mean(),neg_MSE.std()))"
   ]
  },
  {
   "cell_type": "markdown",
   "metadata": {},
   "source": [
    "#### Combinations of Features using Linear Regression model\n",
    "- In this there are five columns present hence we have taken 5C1+5C2+5C4+5C5 combinations.\n",
    "- Each combination is represented in the seperate cell.\n",
    "-  Base model <b>Decision Tree Regression</b> is taken in to consideration for eavluating the combination models. "
   ]
  },
  {
   "cell_type": "code",
   "execution_count": 51,
   "metadata": {},
   "outputs": [
    {
     "name": "stdout",
     "output_type": "stream",
     "text": [
      "Adjusted R^2 corrleation value on attr1 Train data Decision Tree Regression: 0.013701471626981432 \n",
      "Adjusted R^2 corrleation value on attr2 Train data Decision Tree Regression: 0.22353717434659626 \n",
      "Adjusted R^2 corrleation value on attr3 Train data Decision Tree Regression: 0.29363898863961035 \n",
      "Adjusted R^2 corrleation value on attr4 Train data Decision Tree Regression: 0.512473425739714 \n",
      "Adjusted R^2 corrleation value on attr6 Train data Decision Tree Regression: 0.5633004953164661 \n"
     ]
    }
   ],
   "source": [
    "## 5c1 combinations has been done\n",
    "from sklearn.tree import DecisionTreeRegressor\n",
    "for i in range(X_tr.shape[1]):\n",
    "        for j in range(X_tr.shape[1]):\n",
    "            if i==0:\n",
    "                Lin=DecisionTreeRegressor()\n",
    "                Lin.fit(X_tr.iloc[:,[j]],y_tr)\n",
    "\n",
    "                y_pred_tr=Lin.predict(X_tr.iloc[:,[j]])\n",
    "\n",
    "                r2_value=r2_score(y_tr,y_pred_tr)\n",
    "                Adjusted_R2 = 1 - (1-r2_value)*(len(y_tr)-1)/(len(y_tr)-X_tr.iloc[:,[j]].shape[1]-1)\n",
    "            \n",
    "                print('Adjusted R^2 corrleation value on',X_tr.columns[j],\\\n",
    "                  'Train data Decision Tree Regression:',Adjusted_R2,end=\" \\n\")"
   ]
  },
  {
   "cell_type": "code",
   "execution_count": 52,
   "metadata": {},
   "outputs": [
    {
     "name": "stdout",
     "output_type": "stream",
     "text": [
      "Adjusted R^2 corrleation value on Index(['attr1', 'attr2'], dtype='object') Train data Decision Tree Regression: 0.22884917391611848  \n",
      "\n",
      "Adjusted R^2 corrleation value on Index(['attr1', 'attr3'], dtype='object') Train data Decision Tree Regression: 0.31220616938196755  \n",
      "\n",
      "Adjusted R^2 corrleation value on Index(['attr1', 'attr4'], dtype='object') Train data Decision Tree Regression: 0.5211199427266622  \n",
      "\n",
      "Adjusted R^2 corrleation value on Index(['attr1', 'attr6'], dtype='object') Train data Decision Tree Regression: 0.5730291594559787  \n",
      "\n",
      "Adjusted R^2 corrleation value on Index(['attr2', 'attr3'], dtype='object') Train data Decision Tree Regression: 0.4124330758635031  \n",
      "\n",
      "Adjusted R^2 corrleation value on Index(['attr2', 'attr4'], dtype='object') Train data Decision Tree Regression: 0.6283910173421361  \n",
      "\n",
      "Adjusted R^2 corrleation value on Index(['attr2', 'attr6'], dtype='object') Train data Decision Tree Regression: 0.6515377887549831  \n",
      "\n",
      "Adjusted R^2 corrleation value on Index(['attr3', 'attr4'], dtype='object') Train data Decision Tree Regression: 0.7385057192406423  \n",
      "\n",
      "Adjusted R^2 corrleation value on Index(['attr3', 'attr6'], dtype='object') Train data Decision Tree Regression: 0.8466744741686171  \n",
      "\n",
      "Adjusted R^2 corrleation value on Index(['attr4', 'attr6'], dtype='object') Train data Decision Tree Regression: 0.8257683345363969  \n",
      "\n"
     ]
    }
   ],
   "source": [
    "## Possible for 5c2 combinations\n",
    "for k in range(X_tr.shape[1]):\n",
    "    for n in range(k,X_tr.shape[1]):\n",
    "            if n<=X_tr.shape[1]-2:\n",
    "                Lin=DecisionTreeRegressor()\n",
    "                Lin.fit(X_tr.iloc[:,[k,n+1]],y_tr)\n",
    "\n",
    "                y_pred_tr=Lin.predict(X_tr.iloc[:,[k,n+1]])\n",
    "\n",
    "                r2_value=r2_score(y_tr,y_pred_tr)\n",
    "                Adjusted_R2 = 1 - (1-r2_value)*(len(y_tr)-1)/(len(y_tr)-X_tr.shape[1]-1)\n",
    "                print('Adjusted R^2 corrleation value on',X_tr.iloc[:,[k,n+1]].columns,\\\n",
    "                      'Train data Decision Tree Regression:',Adjusted_R2,\" \\n\")\n",
    "                \n",
    "                            \n",
    "                \n",
    "            else:\n",
    "                break\n",
    "        "
   ]
  },
  {
   "cell_type": "code",
   "execution_count": 53,
   "metadata": {},
   "outputs": [
    {
     "name": "stdout",
     "output_type": "stream",
     "text": [
      "Adjusted R^2 corrleation value on Index(['attr1', 'attr2', 'attr3'], dtype='object') Train data Decision Tree Regression:     0.41849632014891824  \n",
      "\n",
      "Adjusted R^2 corrleation value on Index(['attr1', 'attr2', 'attr4'], dtype='object') Train data Decision Tree Regression:     0.6315935124596421  \n",
      "\n",
      "Adjusted R^2 corrleation value on Index(['attr1', 'attr2', 'attr6'], dtype='object') Train data Decision Tree Regression:     0.6576719860677676  \n",
      "\n",
      "Adjusted R^2 corrleation value on Index(['attr1', 'attr3', 'attr4'], dtype='object') Train data Decision Tree Regression:     0.7403719319438952  \n",
      "\n",
      "Adjusted R^2 corrleation value on Index(['attr1', 'attr3', 'attr6'], dtype='object') Train data Decision Tree Regression:     0.8499713918374354  \n",
      "\n",
      "Adjusted R^2 corrleation value on Index(['attr1', 'attr4', 'attr6'], dtype='object') Train data Decision Tree Regression:     0.828406955531711  \n",
      "\n",
      "Adjusted R^2 corrleation value on Index(['attr2', 'attr3', 'attr4'], dtype='object') Train data Decision Tree Regression:     0.7399144768012205  \n",
      "\n",
      "Adjusted R^2 corrleation value on Index(['attr2', 'attr3', 'attr6'], dtype='object') Train data Decision Tree Regression:     0.8632786047505665  \n",
      "\n",
      "Adjusted R^2 corrleation value on Index(['attr2', 'attr4', 'attr6'], dtype='object') Train data Decision Tree Regression:     0.8567852433526904  \n",
      "\n",
      "Adjusted R^2 corrleation value on Index(['attr3', 'attr4', 'attr6'], dtype='object') Train data Decision Tree Regression:     0.9412159082386778  \n",
      "\n"
     ]
    }
   ],
   "source": [
    "## Possible for 5c3 combinations\n",
    "for k in range(5):\n",
    "    for n in range(k,5):\n",
    "        tr=0\n",
    "        tr=tr+1\n",
    "        for r in range(n,5):\n",
    "            if r<3:\n",
    "                Lin=DecisionTreeRegressor()\n",
    "                Lin.fit(X_tr.iloc[:,[k,n+1,r+tr+1]],y_tr)\n",
    "\n",
    "                y_pred_tr=Lin.predict(X_tr.iloc[:,[k,n+1,r+tr+1]])\n",
    "\n",
    "                r2_value=r2_score(y_tr,y_pred_tr)\n",
    "                \n",
    "                Adjusted_R2 = 1 - (1-r2_value)*(len(y_tr)-1)/(len(y_tr)-X_tr.shape[1]-1)\n",
    "                \n",
    "                print('Adjusted R^2 corrleation value on',X_tr.iloc[:,[k,n+1,r+tr+1]].columns,\\\n",
    "                      'Train data Decision Tree Regression:    ',Adjusted_R2,\" \\n\")\n",
    "            else:\n",
    "                break\n",
    "                \n"
   ]
  },
  {
   "cell_type": "code",
   "execution_count": 54,
   "metadata": {},
   "outputs": [
    {
     "name": "stdout",
     "output_type": "stream",
     "text": [
      "Adjusted R^2 corrleation value on Index(['attr1', 'attr2', 'attr3', 'attr4'], dtype='object') Train data Decision Tree Regression: 0.7417636075564689  \n",
      "\n",
      "Adjusted R^2 corrleation value on Index(['attr1', 'attr2', 'attr3', 'attr6'], dtype='object') Train data Decision Tree Regression: 0.865857499784017  \n",
      "\n",
      "Adjusted R^2 corrleation value on Index(['attr1', 'attr2', 'attr4', 'attr6'], dtype='object') Train data Decision Tree Regression: 0.8587212551986756  \n",
      "\n",
      "Adjusted R^2 corrleation value on Index(['attr1', 'attr3', 'attr4', 'attr6'], dtype='object') Train data Decision Tree Regression: 0.9416896173743682  \n",
      "\n",
      "Adjusted R^2 corrleation value on Index(['attr2', 'attr3', 'attr4', 'attr6'], dtype='object') Train data Decision Tree Regression: 0.9412208345979538  \n",
      "\n"
     ]
    }
   ],
   "source": [
    "## Possible for 5c4 combinations\n",
    "for k in range(5):\n",
    "    for n in range(k,5):\n",
    "        tr=0\n",
    "        tr=tr+1\n",
    "        for r in range(n,5):\n",
    "            fr=0\n",
    "            fr=fr+2\n",
    "            for t in range(r,5):\n",
    "                if t<2:\n",
    "                    Lin=DecisionTreeRegressor()\n",
    "                    Lin.fit(X_tr.iloc[:,[k,n+1,r+tr+1,t+fr+1]],y_tr)\n",
    "\n",
    "                    y_pred_tr=Lin.predict(X_tr.iloc[:,[k,n+1,r+tr+1,t+fr+1]])\n",
    "\n",
    "                    r2_value=r2_score(y_tr,y_pred_tr)\n",
    "                \n",
    "                    Adjusted_R2 = 1 - (1-r2_value)*(len(y_tr)-1)/(len(y_tr)-X_tr.shape[1]-1)\n",
    "                \n",
    "                    print('Adjusted R^2 corrleation value on',X_tr.iloc[:,[k,n+1,r+tr+1,t+fr+1]].columns,\\\n",
    "                      'Train data Decision Tree Regression:',Adjusted_R2,\" \\n\")\n",
    "\n",
    "                    \n",
    "                   \n",
    "                else:\n",
    "                    break\n",
    "            "
   ]
  },
  {
   "cell_type": "markdown",
   "metadata": {},
   "source": [
    "## Feature selection\n",
    "- OLS model application to get the Feature importance\n",
    "- Intially started with total features, then procedded with backward elimination"
   ]
  },
  {
   "cell_type": "markdown",
   "metadata": {},
   "source": [
    "###### Summary from OLS\n",
    "#### All the features from attr1,attr2,attr3,attr3, attr6 are the important features for the prediction of Sold_price\n",
    "####  Also P values indicates the significance of the feature , if you clearly observe all the OLS models , P_value<0.05\n",
    "#### Clearly indicating the significance of the features"
   ]
  },
  {
   "cell_type": "code",
   "execution_count": 55,
   "metadata": {},
   "outputs": [
    {
     "data": {
      "text/html": [
       "<table class=\"simpletable\">\n",
       "<caption>OLS Regression Results</caption>\n",
       "<tr>\n",
       "  <th>Dep. Variable:</th>       <td>sold_price</td>    <th>  R-squared (uncentered):</th>       <td>   0.358</td> \n",
       "</tr>\n",
       "<tr>\n",
       "  <th>Model:</th>                   <td>OLS</td>       <th>  Adj. R-squared (uncentered):</th>  <td>   0.358</td> \n",
       "</tr>\n",
       "<tr>\n",
       "  <th>Method:</th>             <td>Least Squares</td>  <th>  F-statistic:       </th>           <td>   781.7</td> \n",
       "</tr>\n",
       "<tr>\n",
       "  <th>Date:</th>             <td>Thu, 01 Oct 2020</td> <th>  Prob (F-statistic):</th>            <td>  0.00</td>  \n",
       "</tr>\n",
       "<tr>\n",
       "  <th>Time:</th>                 <td>19:57:39</td>     <th>  Log-Likelihood:    </th>           <td>  12358.</td> \n",
       "</tr>\n",
       "<tr>\n",
       "  <th>No. Observations:</th>      <td>  7000</td>      <th>  AIC:               </th>          <td>-2.471e+04</td>\n",
       "</tr>\n",
       "<tr>\n",
       "  <th>Df Residuals:</th>          <td>  6995</td>      <th>  BIC:               </th>          <td>-2.467e+04</td>\n",
       "</tr>\n",
       "<tr>\n",
       "  <th>Df Model:</th>              <td>     5</td>      <th>                     </th>               <td> </td>    \n",
       "</tr>\n",
       "<tr>\n",
       "  <th>Covariance Type:</th>      <td>nonrobust</td>    <th>                     </th>               <td> </td>    \n",
       "</tr>\n",
       "</table>\n",
       "<table class=\"simpletable\">\n",
       "<tr>\n",
       "    <td></td>       <th>coef</th>     <th>std err</th>      <th>t</th>      <th>P>|t|</th>  <th>[0.025</th>    <th>0.975]</th>  \n",
       "</tr>\n",
       "<tr>\n",
       "  <th>attr1</th> <td>    0.0157</td> <td>    0.000</td> <td>   36.553</td> <td> 0.000</td> <td>    0.015</td> <td>    0.016</td>\n",
       "</tr>\n",
       "<tr>\n",
       "  <th>attr2</th> <td>   -0.0012</td> <td> 4.54e-05</td> <td>  -25.806</td> <td> 0.000</td> <td>   -0.001</td> <td>   -0.001</td>\n",
       "</tr>\n",
       "<tr>\n",
       "  <th>attr3</th> <td> 1.782e-05</td> <td> 2.32e-06</td> <td>    7.666</td> <td> 0.000</td> <td> 1.33e-05</td> <td> 2.24e-05</td>\n",
       "</tr>\n",
       "<tr>\n",
       "  <th>attr4</th> <td>-6.481e-06</td> <td> 7.49e-07</td> <td>   -8.647</td> <td> 0.000</td> <td>-7.95e-06</td> <td>-5.01e-06</td>\n",
       "</tr>\n",
       "<tr>\n",
       "  <th>attr6</th> <td>    0.0675</td> <td>    0.024</td> <td>    2.855</td> <td> 0.004</td> <td>    0.021</td> <td>    0.114</td>\n",
       "</tr>\n",
       "</table>\n",
       "<table class=\"simpletable\">\n",
       "<tr>\n",
       "  <th>Omnibus:</th>       <td>7654.717</td> <th>  Durbin-Watson:     </th>  <td>   2.047</td>  \n",
       "</tr>\n",
       "<tr>\n",
       "  <th>Prob(Omnibus):</th>  <td> 0.000</td>  <th>  Jarque-Bera (JB):  </th> <td>1267412.962</td>\n",
       "</tr>\n",
       "<tr>\n",
       "  <th>Skew:</th>           <td> 5.296</td>  <th>  Prob(JB):          </th>  <td>    0.00</td>  \n",
       "</tr>\n",
       "<tr>\n",
       "  <th>Kurtosis:</th>       <td>68.063</td>  <th>  Cond. No.          </th>  <td>5.88e+04</td>  \n",
       "</tr>\n",
       "</table><br/><br/>Notes:<br/>[1] R² is computed without centering (uncentered) since the model does not contain a constant.<br/>[2] Standard Errors assume that the covariance matrix of the errors is correctly specified.<br/>[3] The condition number is large, 5.88e+04. This might indicate that there are<br/>strong multicollinearity or other numerical problems."
      ],
      "text/plain": [
       "<class 'statsmodels.iolib.summary.Summary'>\n",
       "\"\"\"\n",
       "                                 OLS Regression Results                                \n",
       "=======================================================================================\n",
       "Dep. Variable:             sold_price   R-squared (uncentered):                   0.358\n",
       "Model:                            OLS   Adj. R-squared (uncentered):              0.358\n",
       "Method:                 Least Squares   F-statistic:                              781.7\n",
       "Date:                Thu, 01 Oct 2020   Prob (F-statistic):                        0.00\n",
       "Time:                        19:57:39   Log-Likelihood:                          12358.\n",
       "No. Observations:                7000   AIC:                                 -2.471e+04\n",
       "Df Residuals:                    6995   BIC:                                 -2.467e+04\n",
       "Df Model:                           5                                                  \n",
       "Covariance Type:            nonrobust                                                  \n",
       "==============================================================================\n",
       "                 coef    std err          t      P>|t|      [0.025      0.975]\n",
       "------------------------------------------------------------------------------\n",
       "attr1          0.0157      0.000     36.553      0.000       0.015       0.016\n",
       "attr2         -0.0012   4.54e-05    -25.806      0.000      -0.001      -0.001\n",
       "attr3       1.782e-05   2.32e-06      7.666      0.000    1.33e-05    2.24e-05\n",
       "attr4      -6.481e-06   7.49e-07     -8.647      0.000   -7.95e-06   -5.01e-06\n",
       "attr6          0.0675      0.024      2.855      0.004       0.021       0.114\n",
       "==============================================================================\n",
       "Omnibus:                     7654.717   Durbin-Watson:                   2.047\n",
       "Prob(Omnibus):                  0.000   Jarque-Bera (JB):          1267412.962\n",
       "Skew:                           5.296   Prob(JB):                         0.00\n",
       "Kurtosis:                      68.063   Cond. No.                     5.88e+04\n",
       "==============================================================================\n",
       "\n",
       "Notes:\n",
       "[1] R² is computed without centering (uncentered) since the model does not contain a constant.\n",
       "[2] Standard Errors assume that the covariance matrix of the errors is correctly specified.\n",
       "[3] The condition number is large, 5.88e+04. This might indicate that there are\n",
       "strong multicollinearity or other numerical problems.\n",
       "\"\"\""
      ]
     },
     "execution_count": 55,
     "metadata": {},
     "output_type": "execute_result"
    }
   ],
   "source": [
    "import statsmodels.api as sm\n",
    "Ols = sm.OLS(y_tr,X_tr).fit()\n",
    "Ols.summary()"
   ]
  },
  {
   "cell_type": "markdown",
   "metadata": {},
   "source": [
    "### Ecluded attr6 observing the behaviour of Adjusted R2\n",
    "- Almost if the variable has included or not , it doesnt have any effect"
   ]
  },
  {
   "cell_type": "code",
   "execution_count": 56,
   "metadata": {},
   "outputs": [
    {
     "data": {
      "text/html": [
       "<table class=\"simpletable\">\n",
       "<caption>OLS Regression Results</caption>\n",
       "<tr>\n",
       "  <th>Dep. Variable:</th>       <td>sold_price</td>    <th>  R-squared (uncentered):</th>       <td>   0.358</td> \n",
       "</tr>\n",
       "<tr>\n",
       "  <th>Model:</th>                   <td>OLS</td>       <th>  Adj. R-squared (uncentered):</th>  <td>   0.357</td> \n",
       "</tr>\n",
       "<tr>\n",
       "  <th>Method:</th>             <td>Least Squares</td>  <th>  F-statistic:       </th>           <td>   974.1</td> \n",
       "</tr>\n",
       "<tr>\n",
       "  <th>Date:</th>             <td>Thu, 01 Oct 2020</td> <th>  Prob (F-statistic):</th>            <td>  0.00</td>  \n",
       "</tr>\n",
       "<tr>\n",
       "  <th>Time:</th>                 <td>19:57:39</td>     <th>  Log-Likelihood:    </th>           <td>  12354.</td> \n",
       "</tr>\n",
       "<tr>\n",
       "  <th>No. Observations:</th>      <td>  7000</td>      <th>  AIC:               </th>          <td>-2.470e+04</td>\n",
       "</tr>\n",
       "<tr>\n",
       "  <th>Df Residuals:</th>          <td>  6996</td>      <th>  BIC:               </th>          <td>-2.467e+04</td>\n",
       "</tr>\n",
       "<tr>\n",
       "  <th>Df Model:</th>              <td>     4</td>      <th>                     </th>               <td> </td>    \n",
       "</tr>\n",
       "<tr>\n",
       "  <th>Covariance Type:</th>      <td>nonrobust</td>    <th>                     </th>               <td> </td>    \n",
       "</tr>\n",
       "</table>\n",
       "<table class=\"simpletable\">\n",
       "<tr>\n",
       "    <td></td>       <th>coef</th>     <th>std err</th>      <th>t</th>      <th>P>|t|</th>  <th>[0.025</th>    <th>0.975]</th>  \n",
       "</tr>\n",
       "<tr>\n",
       "  <th>attr1</th> <td>    0.0157</td> <td>    0.000</td> <td>   36.651</td> <td> 0.000</td> <td>    0.015</td> <td>    0.017</td>\n",
       "</tr>\n",
       "<tr>\n",
       "  <th>attr2</th> <td>   -0.0012</td> <td> 4.54e-05</td> <td>  -25.888</td> <td> 0.000</td> <td>   -0.001</td> <td>   -0.001</td>\n",
       "</tr>\n",
       "<tr>\n",
       "  <th>attr3</th> <td> 1.788e-05</td> <td> 2.33e-06</td> <td>    7.691</td> <td> 0.000</td> <td> 1.33e-05</td> <td> 2.24e-05</td>\n",
       "</tr>\n",
       "<tr>\n",
       "  <th>attr4</th> <td>-6.498e-06</td> <td>  7.5e-07</td> <td>   -8.666</td> <td> 0.000</td> <td>-7.97e-06</td> <td>-5.03e-06</td>\n",
       "</tr>\n",
       "</table>\n",
       "<table class=\"simpletable\">\n",
       "<tr>\n",
       "  <th>Omnibus:</th>       <td>7649.468</td> <th>  Durbin-Watson:     </th>  <td>   2.047</td>  \n",
       "</tr>\n",
       "<tr>\n",
       "  <th>Prob(Omnibus):</th>  <td> 0.000</td>  <th>  Jarque-Bera (JB):  </th> <td>1261777.973</td>\n",
       "</tr>\n",
       "<tr>\n",
       "  <th>Skew:</th>           <td> 5.290</td>  <th>  Prob(JB):          </th>  <td>    0.00</td>  \n",
       "</tr>\n",
       "<tr>\n",
       "  <th>Kurtosis:</th>       <td>67.916</td>  <th>  Cond. No.          </th>  <td>1.07e+03</td>  \n",
       "</tr>\n",
       "</table><br/><br/>Notes:<br/>[1] R² is computed without centering (uncentered) since the model does not contain a constant.<br/>[2] Standard Errors assume that the covariance matrix of the errors is correctly specified.<br/>[3] The condition number is large, 1.07e+03. This might indicate that there are<br/>strong multicollinearity or other numerical problems."
      ],
      "text/plain": [
       "<class 'statsmodels.iolib.summary.Summary'>\n",
       "\"\"\"\n",
       "                                 OLS Regression Results                                \n",
       "=======================================================================================\n",
       "Dep. Variable:             sold_price   R-squared (uncentered):                   0.358\n",
       "Model:                            OLS   Adj. R-squared (uncentered):              0.357\n",
       "Method:                 Least Squares   F-statistic:                              974.1\n",
       "Date:                Thu, 01 Oct 2020   Prob (F-statistic):                        0.00\n",
       "Time:                        19:57:39   Log-Likelihood:                          12354.\n",
       "No. Observations:                7000   AIC:                                 -2.470e+04\n",
       "Df Residuals:                    6996   BIC:                                 -2.467e+04\n",
       "Df Model:                           4                                                  \n",
       "Covariance Type:            nonrobust                                                  \n",
       "==============================================================================\n",
       "                 coef    std err          t      P>|t|      [0.025      0.975]\n",
       "------------------------------------------------------------------------------\n",
       "attr1          0.0157      0.000     36.651      0.000       0.015       0.017\n",
       "attr2         -0.0012   4.54e-05    -25.888      0.000      -0.001      -0.001\n",
       "attr3       1.788e-05   2.33e-06      7.691      0.000    1.33e-05    2.24e-05\n",
       "attr4      -6.498e-06    7.5e-07     -8.666      0.000   -7.97e-06   -5.03e-06\n",
       "==============================================================================\n",
       "Omnibus:                     7649.468   Durbin-Watson:                   2.047\n",
       "Prob(Omnibus):                  0.000   Jarque-Bera (JB):          1261777.973\n",
       "Skew:                           5.290   Prob(JB):                         0.00\n",
       "Kurtosis:                      67.916   Cond. No.                     1.07e+03\n",
       "==============================================================================\n",
       "\n",
       "Notes:\n",
       "[1] R² is computed without centering (uncentered) since the model does not contain a constant.\n",
       "[2] Standard Errors assume that the covariance matrix of the errors is correctly specified.\n",
       "[3] The condition number is large, 1.07e+03. This might indicate that there are\n",
       "strong multicollinearity or other numerical problems.\n",
       "\"\"\""
      ]
     },
     "execution_count": 56,
     "metadata": {},
     "output_type": "execute_result"
    }
   ],
   "source": [
    "## Excluding the attribute 6\n",
    "\n",
    "import statsmodels.api as sm\n",
    "Ols = sm.OLS(y_tr,X_tr[['attr1','attr2','attr3','attr4']]).fit()\n",
    "Ols.summary()\n"
   ]
  },
  {
   "cell_type": "markdown",
   "metadata": {},
   "source": [
    "### Ecluded attr4 observing the behaviour of Adjusted R2\n",
    "- If the feature has removed , it does have effect on Adj R2 which is decrasing."
   ]
  },
  {
   "cell_type": "code",
   "execution_count": 57,
   "metadata": {},
   "outputs": [
    {
     "data": {
      "text/html": [
       "<table class=\"simpletable\">\n",
       "<caption>OLS Regression Results</caption>\n",
       "<tr>\n",
       "  <th>Dep. Variable:</th>       <td>sold_price</td>    <th>  R-squared (uncentered):</th>       <td>   0.352</td> \n",
       "</tr>\n",
       "<tr>\n",
       "  <th>Model:</th>                   <td>OLS</td>       <th>  Adj. R-squared (uncentered):</th>  <td>   0.351</td> \n",
       "</tr>\n",
       "<tr>\n",
       "  <th>Method:</th>             <td>Least Squares</td>  <th>  F-statistic:       </th>           <td>   948.4</td> \n",
       "</tr>\n",
       "<tr>\n",
       "  <th>Date:</th>             <td>Thu, 01 Oct 2020</td> <th>  Prob (F-statistic):</th>            <td>  0.00</td>  \n",
       "</tr>\n",
       "<tr>\n",
       "  <th>Time:</th>                 <td>19:57:39</td>     <th>  Log-Likelihood:    </th>           <td>  12321.</td> \n",
       "</tr>\n",
       "<tr>\n",
       "  <th>No. Observations:</th>      <td>  7000</td>      <th>  AIC:               </th>          <td>-2.463e+04</td>\n",
       "</tr>\n",
       "<tr>\n",
       "  <th>Df Residuals:</th>          <td>  6996</td>      <th>  BIC:               </th>          <td>-2.461e+04</td>\n",
       "</tr>\n",
       "<tr>\n",
       "  <th>Df Model:</th>              <td>     4</td>      <th>                     </th>               <td> </td>    \n",
       "</tr>\n",
       "<tr>\n",
       "  <th>Covariance Type:</th>      <td>nonrobust</td>    <th>                     </th>               <td> </td>    \n",
       "</tr>\n",
       "</table>\n",
       "<table class=\"simpletable\">\n",
       "<tr>\n",
       "    <td></td>       <th>coef</th>     <th>std err</th>      <th>t</th>      <th>P>|t|</th>  <th>[0.025</th>    <th>0.975]</th>  \n",
       "</tr>\n",
       "<tr>\n",
       "  <th>attr1</th> <td>    0.0140</td> <td>    0.000</td> <td>   36.348</td> <td> 0.000</td> <td>    0.013</td> <td>    0.015</td>\n",
       "</tr>\n",
       "<tr>\n",
       "  <th>attr2</th> <td>   -0.0012</td> <td> 4.53e-05</td> <td>  -26.968</td> <td> 0.000</td> <td>   -0.001</td> <td>   -0.001</td>\n",
       "</tr>\n",
       "<tr>\n",
       "  <th>attr3</th> <td> 1.482e-05</td> <td> 2.31e-06</td> <td>    6.414</td> <td> 0.000</td> <td> 1.03e-05</td> <td> 1.93e-05</td>\n",
       "</tr>\n",
       "<tr>\n",
       "  <th>attr6</th> <td>    0.0691</td> <td>    0.024</td> <td>    2.908</td> <td> 0.004</td> <td>    0.023</td> <td>    0.116</td>\n",
       "</tr>\n",
       "</table>\n",
       "<table class=\"simpletable\">\n",
       "<tr>\n",
       "  <th>Omnibus:</th>       <td>7671.456</td> <th>  Durbin-Watson:     </th>  <td>   2.047</td>  \n",
       "</tr>\n",
       "<tr>\n",
       "  <th>Prob(Omnibus):</th>  <td> 0.000</td>  <th>  Jarque-Bera (JB):  </th> <td>1265577.782</td>\n",
       "</tr>\n",
       "<tr>\n",
       "  <th>Skew:</th>           <td> 5.319</td>  <th>  Prob(JB):          </th>  <td>    0.00</td>  \n",
       "</tr>\n",
       "<tr>\n",
       "  <th>Kurtosis:</th>       <td>68.007</td>  <th>  Cond. No.          </th>  <td>1.87e+04</td>  \n",
       "</tr>\n",
       "</table><br/><br/>Notes:<br/>[1] R² is computed without centering (uncentered) since the model does not contain a constant.<br/>[2] Standard Errors assume that the covariance matrix of the errors is correctly specified.<br/>[3] The condition number is large, 1.87e+04. This might indicate that there are<br/>strong multicollinearity or other numerical problems."
      ],
      "text/plain": [
       "<class 'statsmodels.iolib.summary.Summary'>\n",
       "\"\"\"\n",
       "                                 OLS Regression Results                                \n",
       "=======================================================================================\n",
       "Dep. Variable:             sold_price   R-squared (uncentered):                   0.352\n",
       "Model:                            OLS   Adj. R-squared (uncentered):              0.351\n",
       "Method:                 Least Squares   F-statistic:                              948.4\n",
       "Date:                Thu, 01 Oct 2020   Prob (F-statistic):                        0.00\n",
       "Time:                        19:57:39   Log-Likelihood:                          12321.\n",
       "No. Observations:                7000   AIC:                                 -2.463e+04\n",
       "Df Residuals:                    6996   BIC:                                 -2.461e+04\n",
       "Df Model:                           4                                                  \n",
       "Covariance Type:            nonrobust                                                  \n",
       "==============================================================================\n",
       "                 coef    std err          t      P>|t|      [0.025      0.975]\n",
       "------------------------------------------------------------------------------\n",
       "attr1          0.0140      0.000     36.348      0.000       0.013       0.015\n",
       "attr2         -0.0012   4.53e-05    -26.968      0.000      -0.001      -0.001\n",
       "attr3       1.482e-05   2.31e-06      6.414      0.000    1.03e-05    1.93e-05\n",
       "attr6          0.0691      0.024      2.908      0.004       0.023       0.116\n",
       "==============================================================================\n",
       "Omnibus:                     7671.456   Durbin-Watson:                   2.047\n",
       "Prob(Omnibus):                  0.000   Jarque-Bera (JB):          1265577.782\n",
       "Skew:                           5.319   Prob(JB):                         0.00\n",
       "Kurtosis:                      68.007   Cond. No.                     1.87e+04\n",
       "==============================================================================\n",
       "\n",
       "Notes:\n",
       "[1] R² is computed without centering (uncentered) since the model does not contain a constant.\n",
       "[2] Standard Errors assume that the covariance matrix of the errors is correctly specified.\n",
       "[3] The condition number is large, 1.87e+04. This might indicate that there are\n",
       "strong multicollinearity or other numerical problems.\n",
       "\"\"\""
      ]
     },
     "execution_count": 57,
     "metadata": {},
     "output_type": "execute_result"
    }
   ],
   "source": [
    "## Excluding the attribute 4\n",
    "\n",
    "import statsmodels.api as sm\n",
    "Ols = sm.OLS(y_tr,X_tr[['attr1','attr2','attr3','attr6']]).fit()\n",
    "Ols.summary()\n"
   ]
  },
  {
   "cell_type": "markdown",
   "metadata": {},
   "source": [
    "### Ecluded attr3 observing the behaviour of Adjusted R2\n",
    "-  If the feature has removed , it does have effect on Adj R2 which is decrasing."
   ]
  },
  {
   "cell_type": "code",
   "execution_count": 58,
   "metadata": {},
   "outputs": [
    {
     "data": {
      "text/html": [
       "<table class=\"simpletable\">\n",
       "<caption>OLS Regression Results</caption>\n",
       "<tr>\n",
       "  <th>Dep. Variable:</th>       <td>sold_price</td>    <th>  R-squared (uncentered):</th>       <td>   0.353</td> \n",
       "</tr>\n",
       "<tr>\n",
       "  <th>Model:</th>                   <td>OLS</td>       <th>  Adj. R-squared (uncentered):</th>  <td>   0.353</td> \n",
       "</tr>\n",
       "<tr>\n",
       "  <th>Method:</th>             <td>Least Squares</td>  <th>  F-statistic:       </th>           <td>   954.5</td> \n",
       "</tr>\n",
       "<tr>\n",
       "  <th>Date:</th>             <td>Thu, 01 Oct 2020</td> <th>  Prob (F-statistic):</th>            <td>  0.00</td>  \n",
       "</tr>\n",
       "<tr>\n",
       "  <th>Time:</th>                 <td>19:57:39</td>     <th>  Log-Likelihood:    </th>           <td>  12329.</td> \n",
       "</tr>\n",
       "<tr>\n",
       "  <th>No. Observations:</th>      <td>  7000</td>      <th>  AIC:               </th>          <td>-2.465e+04</td>\n",
       "</tr>\n",
       "<tr>\n",
       "  <th>Df Residuals:</th>          <td>  6996</td>      <th>  BIC:               </th>          <td>-2.462e+04</td>\n",
       "</tr>\n",
       "<tr>\n",
       "  <th>Df Model:</th>              <td>     4</td>      <th>                     </th>               <td> </td>    \n",
       "</tr>\n",
       "<tr>\n",
       "  <th>Covariance Type:</th>      <td>nonrobust</td>    <th>                     </th>               <td> </td>    \n",
       "</tr>\n",
       "</table>\n",
       "<table class=\"simpletable\">\n",
       "<tr>\n",
       "    <td></td>       <th>coef</th>     <th>std err</th>      <th>t</th>      <th>P>|t|</th>  <th>[0.025</th>    <th>0.975]</th>  \n",
       "</tr>\n",
       "<tr>\n",
       "  <th>attr1</th> <td>    0.0174</td> <td>    0.000</td> <td>   47.455</td> <td> 0.000</td> <td>    0.017</td> <td>    0.018</td>\n",
       "</tr>\n",
       "<tr>\n",
       "  <th>attr2</th> <td>   -0.0012</td> <td> 4.56e-05</td> <td>  -25.600</td> <td> 0.000</td> <td>   -0.001</td> <td>   -0.001</td>\n",
       "</tr>\n",
       "<tr>\n",
       "  <th>attr4</th> <td>-5.624e-06</td> <td> 7.44e-07</td> <td>   -7.558</td> <td> 0.000</td> <td>-7.08e-06</td> <td>-4.17e-06</td>\n",
       "</tr>\n",
       "<tr>\n",
       "  <th>attr6</th> <td>    0.0693</td> <td>    0.024</td> <td>    2.921</td> <td> 0.003</td> <td>    0.023</td> <td>    0.116</td>\n",
       "</tr>\n",
       "</table>\n",
       "<table class=\"simpletable\">\n",
       "<tr>\n",
       "  <th>Omnibus:</th>       <td>7591.217</td> <th>  Durbin-Watson:     </th>  <td>   2.046</td>  \n",
       "</tr>\n",
       "<tr>\n",
       "  <th>Prob(Omnibus):</th>  <td> 0.000</td>  <th>  Jarque-Bera (JB):  </th> <td>1213689.984</td>\n",
       "</tr>\n",
       "<tr>\n",
       "  <th>Skew:</th>           <td> 5.229</td>  <th>  Prob(JB):          </th>  <td>    0.00</td>  \n",
       "</tr>\n",
       "<tr>\n",
       "  <th>Kurtosis:</th>       <td>66.654</td>  <th>  Cond. No.          </th>  <td>5.70e+04</td>  \n",
       "</tr>\n",
       "</table><br/><br/>Notes:<br/>[1] R² is computed without centering (uncentered) since the model does not contain a constant.<br/>[2] Standard Errors assume that the covariance matrix of the errors is correctly specified.<br/>[3] The condition number is large, 5.7e+04. This might indicate that there are<br/>strong multicollinearity or other numerical problems."
      ],
      "text/plain": [
       "<class 'statsmodels.iolib.summary.Summary'>\n",
       "\"\"\"\n",
       "                                 OLS Regression Results                                \n",
       "=======================================================================================\n",
       "Dep. Variable:             sold_price   R-squared (uncentered):                   0.353\n",
       "Model:                            OLS   Adj. R-squared (uncentered):              0.353\n",
       "Method:                 Least Squares   F-statistic:                              954.5\n",
       "Date:                Thu, 01 Oct 2020   Prob (F-statistic):                        0.00\n",
       "Time:                        19:57:39   Log-Likelihood:                          12329.\n",
       "No. Observations:                7000   AIC:                                 -2.465e+04\n",
       "Df Residuals:                    6996   BIC:                                 -2.462e+04\n",
       "Df Model:                           4                                                  \n",
       "Covariance Type:            nonrobust                                                  \n",
       "==============================================================================\n",
       "                 coef    std err          t      P>|t|      [0.025      0.975]\n",
       "------------------------------------------------------------------------------\n",
       "attr1          0.0174      0.000     47.455      0.000       0.017       0.018\n",
       "attr2         -0.0012   4.56e-05    -25.600      0.000      -0.001      -0.001\n",
       "attr4      -5.624e-06   7.44e-07     -7.558      0.000   -7.08e-06   -4.17e-06\n",
       "attr6          0.0693      0.024      2.921      0.003       0.023       0.116\n",
       "==============================================================================\n",
       "Omnibus:                     7591.217   Durbin-Watson:                   2.046\n",
       "Prob(Omnibus):                  0.000   Jarque-Bera (JB):          1213689.984\n",
       "Skew:                           5.229   Prob(JB):                         0.00\n",
       "Kurtosis:                      66.654   Cond. No.                     5.70e+04\n",
       "==============================================================================\n",
       "\n",
       "Notes:\n",
       "[1] R² is computed without centering (uncentered) since the model does not contain a constant.\n",
       "[2] Standard Errors assume that the covariance matrix of the errors is correctly specified.\n",
       "[3] The condition number is large, 5.7e+04. This might indicate that there are\n",
       "strong multicollinearity or other numerical problems.\n",
       "\"\"\""
      ]
     },
     "execution_count": 58,
     "metadata": {},
     "output_type": "execute_result"
    }
   ],
   "source": [
    "## Excluding the attribute 3\n",
    "\n",
    "import statsmodels.api as sm\n",
    "Ols = sm.OLS(y_tr,X_tr[['attr1','attr2','attr4','attr6']]).fit()\n",
    "Ols.summary()\n"
   ]
  },
  {
   "cell_type": "markdown",
   "metadata": {},
   "source": [
    "### Ecluded attr2 observing the behaviour of Adjusted R2\n",
    "-  If the feature has removed , it does have effect on Adj R2 which is decrasing.\n",
    "-  It is an important vairiable"
   ]
  },
  {
   "cell_type": "code",
   "execution_count": 59,
   "metadata": {},
   "outputs": [
    {
     "data": {
      "text/html": [
       "<table class=\"simpletable\">\n",
       "<caption>OLS Regression Results</caption>\n",
       "<tr>\n",
       "  <th>Dep. Variable:</th>       <td>sold_price</td>    <th>  R-squared (uncentered):</th>       <td>   0.297</td> \n",
       "</tr>\n",
       "<tr>\n",
       "  <th>Model:</th>                   <td>OLS</td>       <th>  Adj. R-squared (uncentered):</th>  <td>   0.297</td> \n",
       "</tr>\n",
       "<tr>\n",
       "  <th>Method:</th>             <td>Least Squares</td>  <th>  F-statistic:       </th>           <td>   740.2</td> \n",
       "</tr>\n",
       "<tr>\n",
       "  <th>Date:</th>             <td>Thu, 01 Oct 2020</td> <th>  Prob (F-statistic):</th>            <td>  0.00</td>  \n",
       "</tr>\n",
       "<tr>\n",
       "  <th>Time:</th>                 <td>19:57:39</td>     <th>  Log-Likelihood:    </th>           <td>  12040.</td> \n",
       "</tr>\n",
       "<tr>\n",
       "  <th>No. Observations:</th>      <td>  7000</td>      <th>  AIC:               </th>          <td>-2.407e+04</td>\n",
       "</tr>\n",
       "<tr>\n",
       "  <th>Df Residuals:</th>          <td>  6996</td>      <th>  BIC:               </th>          <td>-2.404e+04</td>\n",
       "</tr>\n",
       "<tr>\n",
       "  <th>Df Model:</th>              <td>     4</td>      <th>                     </th>               <td> </td>    \n",
       "</tr>\n",
       "<tr>\n",
       "  <th>Covariance Type:</th>      <td>nonrobust</td>    <th>                     </th>               <td> </td>    \n",
       "</tr>\n",
       "</table>\n",
       "<table class=\"simpletable\">\n",
       "<tr>\n",
       "    <td></td>       <th>coef</th>     <th>std err</th>      <th>t</th>      <th>P>|t|</th>  <th>[0.025</th>    <th>0.975]</th>  \n",
       "</tr>\n",
       "<tr>\n",
       "  <th>attr1</th> <td>    0.0107</td> <td>    0.000</td> <td>   26.726</td> <td> 0.000</td> <td>    0.010</td> <td>    0.012</td>\n",
       "</tr>\n",
       "<tr>\n",
       "  <th>attr3</th> <td>   1.7e-05</td> <td> 2.43e-06</td> <td>    6.992</td> <td> 0.000</td> <td> 1.22e-05</td> <td> 2.18e-05</td>\n",
       "</tr>\n",
       "<tr>\n",
       "  <th>attr4</th> <td>-8.914e-06</td> <td> 7.78e-07</td> <td>  -11.457</td> <td> 0.000</td> <td>-1.04e-05</td> <td>-7.39e-06</td>\n",
       "</tr>\n",
       "<tr>\n",
       "  <th>attr6</th> <td>    0.0854</td> <td>    0.025</td> <td>    3.452</td> <td> 0.001</td> <td>    0.037</td> <td>    0.134</td>\n",
       "</tr>\n",
       "</table>\n",
       "<table class=\"simpletable\">\n",
       "<tr>\n",
       "  <th>Omnibus:</th>       <td>7545.640</td> <th>  Durbin-Watson:     </th>  <td>   2.043</td>  \n",
       "</tr>\n",
       "<tr>\n",
       "  <th>Prob(Omnibus):</th>  <td> 0.000</td>  <th>  Jarque-Bera (JB):  </th> <td>1069647.401</td>\n",
       "</tr>\n",
       "<tr>\n",
       "  <th>Skew:</th>           <td> 5.222</td>  <th>  Prob(JB):          </th>  <td>    0.00</td>  \n",
       "</tr>\n",
       "<tr>\n",
       "  <th>Kurtosis:</th>       <td>62.652</td>  <th>  Cond. No.          </th>  <td>5.87e+04</td>  \n",
       "</tr>\n",
       "</table><br/><br/>Notes:<br/>[1] R² is computed without centering (uncentered) since the model does not contain a constant.<br/>[2] Standard Errors assume that the covariance matrix of the errors is correctly specified.<br/>[3] The condition number is large, 5.87e+04. This might indicate that there are<br/>strong multicollinearity or other numerical problems."
      ],
      "text/plain": [
       "<class 'statsmodels.iolib.summary.Summary'>\n",
       "\"\"\"\n",
       "                                 OLS Regression Results                                \n",
       "=======================================================================================\n",
       "Dep. Variable:             sold_price   R-squared (uncentered):                   0.297\n",
       "Model:                            OLS   Adj. R-squared (uncentered):              0.297\n",
       "Method:                 Least Squares   F-statistic:                              740.2\n",
       "Date:                Thu, 01 Oct 2020   Prob (F-statistic):                        0.00\n",
       "Time:                        19:57:39   Log-Likelihood:                          12040.\n",
       "No. Observations:                7000   AIC:                                 -2.407e+04\n",
       "Df Residuals:                    6996   BIC:                                 -2.404e+04\n",
       "Df Model:                           4                                                  \n",
       "Covariance Type:            nonrobust                                                  \n",
       "==============================================================================\n",
       "                 coef    std err          t      P>|t|      [0.025      0.975]\n",
       "------------------------------------------------------------------------------\n",
       "attr1          0.0107      0.000     26.726      0.000       0.010       0.012\n",
       "attr3         1.7e-05   2.43e-06      6.992      0.000    1.22e-05    2.18e-05\n",
       "attr4      -8.914e-06   7.78e-07    -11.457      0.000   -1.04e-05   -7.39e-06\n",
       "attr6          0.0854      0.025      3.452      0.001       0.037       0.134\n",
       "==============================================================================\n",
       "Omnibus:                     7545.640   Durbin-Watson:                   2.043\n",
       "Prob(Omnibus):                  0.000   Jarque-Bera (JB):          1069647.401\n",
       "Skew:                           5.222   Prob(JB):                         0.00\n",
       "Kurtosis:                      62.652   Cond. No.                     5.87e+04\n",
       "==============================================================================\n",
       "\n",
       "Notes:\n",
       "[1] R² is computed without centering (uncentered) since the model does not contain a constant.\n",
       "[2] Standard Errors assume that the covariance matrix of the errors is correctly specified.\n",
       "[3] The condition number is large, 5.87e+04. This might indicate that there are\n",
       "strong multicollinearity or other numerical problems.\n",
       "\"\"\""
      ]
     },
     "execution_count": 59,
     "metadata": {},
     "output_type": "execute_result"
    }
   ],
   "source": [
    "## Excluding the attribute 2\n",
    "\n",
    "import statsmodels.api as sm\n",
    "Ols = sm.OLS(y_tr,X_tr[['attr1','attr3','attr4','attr6']]).fit()\n",
    "Ols.summary()"
   ]
  },
  {
   "cell_type": "markdown",
   "metadata": {},
   "source": [
    "### Ecluded attr1 observing the behaviour of Adjusted R2\n",
    "-  If the feature has removed , it does have effect on Adj R2 which is decrasing.\n",
    "-  It is an important vairiable"
   ]
  },
  {
   "cell_type": "code",
   "execution_count": 60,
   "metadata": {},
   "outputs": [
    {
     "data": {
      "text/html": [
       "<table class=\"simpletable\">\n",
       "<caption>OLS Regression Results</caption>\n",
       "<tr>\n",
       "  <th>Dep. Variable:</th>       <td>sold_price</td>    <th>  R-squared (uncentered):</th>       <td>   0.236</td> \n",
       "</tr>\n",
       "<tr>\n",
       "  <th>Model:</th>                   <td>OLS</td>       <th>  Adj. R-squared (uncentered):</th>  <td>   0.235</td> \n",
       "</tr>\n",
       "<tr>\n",
       "  <th>Method:</th>             <td>Least Squares</td>  <th>  F-statistic:       </th>           <td>   540.0</td> \n",
       "</tr>\n",
       "<tr>\n",
       "  <th>Date:</th>             <td>Thu, 01 Oct 2020</td> <th>  Prob (F-statistic):</th>            <td>  0.00</td>  \n",
       "</tr>\n",
       "<tr>\n",
       "  <th>Time:</th>                 <td>19:57:39</td>     <th>  Log-Likelihood:    </th>           <td>  11746.</td> \n",
       "</tr>\n",
       "<tr>\n",
       "  <th>No. Observations:</th>      <td>  7000</td>      <th>  AIC:               </th>          <td>-2.348e+04</td>\n",
       "</tr>\n",
       "<tr>\n",
       "  <th>Df Residuals:</th>          <td>  6996</td>      <th>  BIC:               </th>          <td>-2.346e+04</td>\n",
       "</tr>\n",
       "<tr>\n",
       "  <th>Df Model:</th>              <td>     4</td>      <th>                     </th>               <td> </td>    \n",
       "</tr>\n",
       "<tr>\n",
       "  <th>Covariance Type:</th>      <td>nonrobust</td>    <th>                     </th>               <td> </td>    \n",
       "</tr>\n",
       "</table>\n",
       "<table class=\"simpletable\">\n",
       "<tr>\n",
       "    <td></td>       <th>coef</th>     <th>std err</th>      <th>t</th>      <th>P>|t|</th>  <th>[0.025</th>    <th>0.975]</th>  \n",
       "</tr>\n",
       "<tr>\n",
       "  <th>attr2</th> <td>   -0.0004</td> <td> 4.43e-05</td> <td>   -9.698</td> <td> 0.000</td> <td>   -0.001</td> <td>   -0.000</td>\n",
       "</tr>\n",
       "<tr>\n",
       "  <th>attr3</th> <td> 6.237e-05</td> <td> 2.16e-06</td> <td>   28.880</td> <td> 0.000</td> <td> 5.81e-05</td> <td> 6.66e-05</td>\n",
       "</tr>\n",
       "<tr>\n",
       "  <th>attr4</th> <td> 5.758e-06</td> <td> 7.32e-07</td> <td>    7.870</td> <td> 0.000</td> <td> 4.32e-06</td> <td> 7.19e-06</td>\n",
       "</tr>\n",
       "<tr>\n",
       "  <th>attr6</th> <td>    0.0964</td> <td>    0.026</td> <td>    3.740</td> <td> 0.000</td> <td>    0.046</td> <td>    0.147</td>\n",
       "</tr>\n",
       "</table>\n",
       "<table class=\"simpletable\">\n",
       "<tr>\n",
       "  <th>Omnibus:</th>       <td>7233.619</td> <th>  Durbin-Watson:     </th>  <td>   2.001</td> \n",
       "</tr>\n",
       "<tr>\n",
       "  <th>Prob(Omnibus):</th>  <td> 0.000</td>  <th>  Jarque-Bera (JB):  </th> <td>910904.445</td>\n",
       "</tr>\n",
       "<tr>\n",
       "  <th>Skew:</th>           <td> 4.882</td>  <th>  Prob(JB):          </th>  <td>    0.00</td> \n",
       "</tr>\n",
       "<tr>\n",
       "  <th>Kurtosis:</th>       <td>58.025</td>  <th>  Cond. No.          </th>  <td>5.87e+04</td> \n",
       "</tr>\n",
       "</table><br/><br/>Notes:<br/>[1] R² is computed without centering (uncentered) since the model does not contain a constant.<br/>[2] Standard Errors assume that the covariance matrix of the errors is correctly specified.<br/>[3] The condition number is large, 5.87e+04. This might indicate that there are<br/>strong multicollinearity or other numerical problems."
      ],
      "text/plain": [
       "<class 'statsmodels.iolib.summary.Summary'>\n",
       "\"\"\"\n",
       "                                 OLS Regression Results                                \n",
       "=======================================================================================\n",
       "Dep. Variable:             sold_price   R-squared (uncentered):                   0.236\n",
       "Model:                            OLS   Adj. R-squared (uncentered):              0.235\n",
       "Method:                 Least Squares   F-statistic:                              540.0\n",
       "Date:                Thu, 01 Oct 2020   Prob (F-statistic):                        0.00\n",
       "Time:                        19:57:39   Log-Likelihood:                          11746.\n",
       "No. Observations:                7000   AIC:                                 -2.348e+04\n",
       "Df Residuals:                    6996   BIC:                                 -2.346e+04\n",
       "Df Model:                           4                                                  \n",
       "Covariance Type:            nonrobust                                                  \n",
       "==============================================================================\n",
       "                 coef    std err          t      P>|t|      [0.025      0.975]\n",
       "------------------------------------------------------------------------------\n",
       "attr2         -0.0004   4.43e-05     -9.698      0.000      -0.001      -0.000\n",
       "attr3       6.237e-05   2.16e-06     28.880      0.000    5.81e-05    6.66e-05\n",
       "attr4       5.758e-06   7.32e-07      7.870      0.000    4.32e-06    7.19e-06\n",
       "attr6          0.0964      0.026      3.740      0.000       0.046       0.147\n",
       "==============================================================================\n",
       "Omnibus:                     7233.619   Durbin-Watson:                   2.001\n",
       "Prob(Omnibus):                  0.000   Jarque-Bera (JB):           910904.445\n",
       "Skew:                           4.882   Prob(JB):                         0.00\n",
       "Kurtosis:                      58.025   Cond. No.                     5.87e+04\n",
       "==============================================================================\n",
       "\n",
       "Notes:\n",
       "[1] R² is computed without centering (uncentered) since the model does not contain a constant.\n",
       "[2] Standard Errors assume that the covariance matrix of the errors is correctly specified.\n",
       "[3] The condition number is large, 5.87e+04. This might indicate that there are\n",
       "strong multicollinearity or other numerical problems.\n",
       "\"\"\""
      ]
     },
     "execution_count": 60,
     "metadata": {},
     "output_type": "execute_result"
    }
   ],
   "source": [
    "## Excluding the attribute 1\n",
    "\n",
    "import statsmodels.api as sm\n",
    "Ols = sm.OLS(y_tr,X_tr[['attr2','attr3','attr4','attr6']]).fit()\n",
    "Ols.summary()"
   ]
  },
  {
   "cell_type": "markdown",
   "metadata": {},
   "source": [
    "### VIF Calculation\n",
    "- If  VIF<4 There is no Multi colinearity.\n",
    "- If  4<=VIF<=10 There is Moderate Multi colinearity.\n",
    "- If  VIF>10 There is a definite Multi colinearity"
   ]
  },
  {
   "cell_type": "code",
   "execution_count": 61,
   "metadata": {},
   "outputs": [],
   "source": [
    "from statsmodels.stats.outliers_influence import variance_inflation_factor\n",
    "\n",
    "def calc_vif(X):\n",
    "\n",
    "    # Calculating VIF\n",
    "    vif = pd.DataFrame()\n",
    "    vif[\"variables\"] = X.columns\n",
    "    vif[\"VIF\"] = [variance_inflation_factor(X.values, i) for i in range(X.shape[1])]\n",
    "\n",
    "    return(vif)"
   ]
  },
  {
   "cell_type": "markdown",
   "metadata": {},
   "source": [
    "###### Minutes of VIF calculation\n",
    "- Attribute 1 has a moderate multicollinearity\n",
    "- Rest of all has no multicollinearity"
   ]
  },
  {
   "cell_type": "code",
   "execution_count": 62,
   "metadata": {},
   "outputs": [
    {
     "data": {
      "text/html": [
       "<div>\n",
       "<style scoped>\n",
       "    .dataframe tbody tr th:only-of-type {\n",
       "        vertical-align: middle;\n",
       "    }\n",
       "\n",
       "    .dataframe tbody tr th {\n",
       "        vertical-align: top;\n",
       "    }\n",
       "\n",
       "    .dataframe thead th {\n",
       "        text-align: right;\n",
       "    }\n",
       "</style>\n",
       "<table border=\"1\" class=\"dataframe\">\n",
       "  <thead>\n",
       "    <tr style=\"text-align: right;\">\n",
       "      <th></th>\n",
       "      <th>variables</th>\n",
       "      <th>VIF</th>\n",
       "    </tr>\n",
       "  </thead>\n",
       "  <tbody>\n",
       "    <tr>\n",
       "      <th>0</th>\n",
       "      <td>attr1</td>\n",
       "      <td>6.069328</td>\n",
       "    </tr>\n",
       "    <tr>\n",
       "      <th>1</th>\n",
       "      <td>attr2</td>\n",
       "      <td>2.730354</td>\n",
       "    </tr>\n",
       "    <tr>\n",
       "      <th>2</th>\n",
       "      <td>attr3</td>\n",
       "      <td>3.373696</td>\n",
       "    </tr>\n",
       "    <tr>\n",
       "      <th>3</th>\n",
       "      <td>attr4</td>\n",
       "      <td>3.270869</td>\n",
       "    </tr>\n",
       "    <tr>\n",
       "      <th>4</th>\n",
       "      <td>attr6</td>\n",
       "      <td>1.003382</td>\n",
       "    </tr>\n",
       "  </tbody>\n",
       "</table>\n",
       "</div>"
      ],
      "text/plain": [
       "  variables       VIF\n",
       "0     attr1  6.069328\n",
       "1     attr2  2.730354\n",
       "2     attr3  3.373696\n",
       "3     attr4  3.270869\n",
       "4     attr6  1.003382"
      ]
     },
     "execution_count": 62,
     "metadata": {},
     "output_type": "execute_result"
    }
   ],
   "source": [
    "calc_vif(X_tr)"
   ]
  },
  {
   "cell_type": "markdown",
   "metadata": {},
   "source": [
    "## Decision Tree Regressor\n",
    "- Intially performing Randomized Search on the pramaters available in the Decision Tree Regressor Model.\n",
    "- Also in Randomzed Search N-iterations has been taken only 5 due to memory constrains.\n",
    "- You can good to go with higher iterations.\n",
    "- After getting best paramters those have to be substituted in to the algorithm."
   ]
  },
  {
   "cell_type": "code",
   "execution_count": 63,
   "metadata": {},
   "outputs": [
    {
     "name": "stdout",
     "output_type": "stream",
     "text": [
      "Fitting 5 folds for each of 25 candidates, totalling 125 fits\n"
     ]
    },
    {
     "name": "stderr",
     "output_type": "stream",
     "text": [
      "[Parallel(n_jobs=-1)]: Using backend LokyBackend with 8 concurrent workers.\n",
      "[Parallel(n_jobs=-1)]: Done  16 tasks      | elapsed:    4.9s\n",
      "[Parallel(n_jobs=-1)]: Done 125 out of 125 | elapsed:   10.0s finished\n"
     ]
    },
    {
     "data": {
      "text/plain": [
       "RandomizedSearchCV(cv=5, estimator=DecisionTreeRegressor(), n_iter=25,\n",
       "                   n_jobs=-1,\n",
       "                   param_distributions={'criterion': ['mse', 'mae'],\n",
       "                                        'max_depth': [8, 10, 12, 14, 16, 18, 20,\n",
       "                                                      22, 24, 26, 28, 30, 32,\n",
       "                                                      34, 36, 38, 40, 42, 44,\n",
       "                                                      46, 48, 50, 52, 54, 56,\n",
       "                                                      58, 60, 62, 64, 66, ...],\n",
       "                                        'max_leaf_nodes': [2, 3, 4, 5, 6, 7, 8,\n",
       "                                                           9, 10, 11, 12, 13,\n",
       "                                                           14, 15, 16, 17, 18,\n",
       "                                                           19, 20, 21, 22, 23,\n",
       "                                                           24, 25, 26, 27, 28,\n",
       "                                                           29, 30, 31, ...],\n",
       "                                        'min_samples_split': [2, 3, 4, 5]},\n",
       "                   random_state=42, verbose=3)"
      ]
     },
     "execution_count": 63,
     "metadata": {},
     "output_type": "execute_result"
    }
   ],
   "source": [
    "from sklearn.model_selection import RandomizedSearchCV\n",
    "from sklearn.tree import DecisionTreeRegressor\n",
    "\n",
    "params = {'criterion' : [\"mse\", \"mae\"],'max_leaf_nodes': list(range(2, 100)), 'min_samples_split': [2, 3, 4, 5],\\\n",
    "          'max_depth':list(range(8, 100,2))}\n",
    "dt = DecisionTreeRegressor()\n",
    "clf=RandomizedSearchCV(estimator = dt, param_distributions = params, n_iter = 25, cv = 5,\\\n",
    "                               verbose=3, random_state=42, n_jobs = -1)\n",
    "\n",
    "clf.fit(X_tr, y_tr)"
   ]
  },
  {
   "cell_type": "markdown",
   "metadata": {},
   "source": [
    "###### Paste this best estimater in the Model DT(Decision Tree)"
   ]
  },
  {
   "cell_type": "code",
   "execution_count": 64,
   "metadata": {},
   "outputs": [
    {
     "data": {
      "text/plain": [
       "DecisionTreeRegressor(max_depth=20, max_leaf_nodes=22, min_samples_split=3)"
      ]
     },
     "execution_count": 64,
     "metadata": {},
     "output_type": "execute_result"
    }
   ],
   "source": [
    "clf.best_estimator_"
   ]
  },
  {
   "cell_type": "code",
   "execution_count": 65,
   "metadata": {},
   "outputs": [
    {
     "data": {
      "text/plain": [
       "DecisionTreeRegressor(max_depth=20, max_leaf_nodes=22, min_samples_split=3)"
      ]
     },
     "execution_count": 65,
     "metadata": {},
     "output_type": "execute_result"
    }
   ],
   "source": [
    "from sklearn.tree import DecisionTreeRegressor\n",
    "\n",
    "Dt=DecisionTreeRegressor(max_depth=20, max_leaf_nodes=22, min_samples_split=3)\n",
    "Dt.fit(X_tr,y_tr)"
   ]
  },
  {
   "cell_type": "markdown",
   "metadata": {},
   "source": [
    "## Test Results Decision Tree Regressor\n",
    "##### - Mean squared error and Ajusted R2 are the paramters taken in to consideration to evaluate the model\n",
    "    1) Adjusted R^2 which tells how good our model is, how well the target variable is related to Independent columns.\\\n",
    "    2) Root mean squared Error tells about the same , how much our model is devating from the actual. "
   ]
  },
  {
   "cell_type": "code",
   "execution_count": 66,
   "metadata": {},
   "outputs": [
    {
     "name": "stdout",
     "output_type": "stream",
     "text": [
      "Root mean squared error for unseen data Decision Tree Regressor: 0.04838424022224499 \n",
      "Adjusted R^2 corrleation value on unseen data Decision Tree Regression: 0.2716801010977822 \n",
      "Root mean squared error on train data Decision Tree Regressor: 0.02737414040784442 \n",
      "Adjusted R^2 corrleation value on Train data Decision Tree Regression: 0.6146813867482102 \n"
     ]
    }
   ],
   "source": [
    "from sklearn.metrics import mean_squared_error,r2_score\n",
    "from math import sqrt\n",
    "\n",
    "y_pred_ts=Dt.predict(X_ts)\n",
    "\n",
    "rms_test = sqrt(mean_squared_error(y_ts, y_pred_ts))\n",
    "r2_value=r2_score(y_ts,y_pred_ts)\n",
    "\n",
    "# Adjusted R Squared\n",
    "Adjusted_R2 = 1 - (1-r2_value)*(len(y_ts)-1)/(len(y_ts)-X_ts.shape[1]-1)\n",
    "\n",
    "\n",
    "print('Root mean squared error for unseen data Decision Tree Regressor:',rms_test,end=\" \\n\")\n",
    "print('Adjusted R^2 corrleation value on unseen data Decision Tree Regression:',Adjusted_R2,end=\" \\n\")\n",
    "\n",
    "y_pred_tr=Dt.predict(X_tr)\n",
    "\n",
    "rms_train = sqrt(mean_squared_error(y_tr, y_pred_tr))\n",
    "r2_value=r2_score(y_tr,y_pred_tr)\n",
    "\n",
    "Adjusted_R2 = 1 - (1-r2_value)*(len(y_tr)-1)/(len(y_tr)-X_tr.shape[1]-1)\n",
    "\n",
    "print('Root mean squared error on train data Decision Tree Regressor:',rms_train,end=\" \\n\")\n",
    "print('Adjusted R^2 corrleation value on Train data Decision Tree Regression:',Adjusted_R2,end=\" \\n\")\n"
   ]
  },
  {
   "cell_type": "markdown",
   "metadata": {},
   "source": [
    "##### Cross validation Decision Tree on Train Dataset\n",
    "- _Checking the cross validation using <b>Negative Root mean squred error</b> as the metric on the Train dataset Decision Tree Regression Model_.\n"
   ]
  },
  {
   "cell_type": "code",
   "execution_count": 67,
   "metadata": {},
   "outputs": [
    {
     "name": "stdout",
     "output_type": "stream",
     "text": [
      "[CV]  ................................................................\n",
      "[CV] ................................................. , total=   0.1s\n",
      "[CV]  ................................................................\n",
      "[CV] ................................................. , total=   0.0s\n",
      "[CV]  ................................................................\n",
      "[CV] ................................................. , total=   0.0s\n",
      "[CV]  ................................................................\n",
      "[CV] ................................................. , total=   0.0s\n",
      "[CV]  ................................................................\n",
      "[CV] ................................................. , total=   0.0s\n",
      "Negative Mean Square Error value Average  -0.03944031326721288 Negative Mean Square Error Variance      0.0023494645105532996\n"
     ]
    },
    {
     "name": "stderr",
     "output_type": "stream",
     "text": [
      "[Parallel(n_jobs=1)]: Using backend SequentialBackend with 1 concurrent workers.\n",
      "[Parallel(n_jobs=1)]: Done   1 out of   1 | elapsed:    0.0s remaining:    0.0s\n",
      "[Parallel(n_jobs=1)]: Done   5 out of   5 | elapsed:    0.1s finished\n"
     ]
    }
   ],
   "source": [
    "from sklearn.model_selection import cross_val_score \n",
    "Dt=DecisionTreeRegressor()\n",
    "Neg_MSE = cross_val_score(estimator = Dt, X = X_tr,\\\n",
    "     y = y_tr, cv = 5,verbose=2,scoring='neg_root_mean_squared_error')\n",
    "print(\"Negative Mean Square Error value Average  {} Negative Mean Square Error Variance \\\n",
    "     {}\".format(Neg_MSE.mean(),Neg_MSE.std()))"
   ]
  },
  {
   "cell_type": "markdown",
   "metadata": {},
   "source": [
    "## Random Forest Regressor\n",
    "- Intially performing Randomized Search on the pramaters available in the Random forest Regressor Model.\n",
    "- Also in Randomzed Search N-iterations has been taken only 5 due to memory constrains.\n",
    "- You can good to go with higher iterations.\n",
    "- After getting best paramters those have to be substituted in to the algorithm."
   ]
  },
  {
   "cell_type": "code",
   "execution_count": 68,
   "metadata": {},
   "outputs": [],
   "source": [
    "import numpy as np\n",
    "from sklearn.ensemble import RandomForestRegressor\n",
    "# Number of trees in random forest\n",
    "n_estimators = [int(x) for x in np.linspace(start = 100, stop = 1000, num = 10)]\n",
    "# Number of features to consider at every split\n",
    "max_features = [1,2,3,4,5]\n",
    "# Maximum number of levels in tree\n",
    "max_depth = [int(x) for x in np.linspace(10, 110, num = 11)]\n",
    "max_depth.append(None)\n",
    "# Minimum number of samples required to split a node\n",
    "min_samples_split = [2, 5, 10]\n",
    "# Minimum number of samples required at each leaf node\n",
    "min_samples_leaf = [1, 2, 4]\n",
    "# Method of selecting samples for training each tree\n",
    "bootstrap = [True, False]"
   ]
  },
  {
   "cell_type": "code",
   "execution_count": 69,
   "metadata": {},
   "outputs": [],
   "source": [
    "# Create the random grid\n",
    "random_grid = {'n_estimators': n_estimators,\n",
    "               'max_features': max_features,\n",
    "               'max_depth': max_depth,\n",
    "               'min_samples_split': min_samples_split,\n",
    "               'min_samples_leaf': min_samples_leaf,\n",
    "               'bootstrap': bootstrap}"
   ]
  },
  {
   "cell_type": "code",
   "execution_count": 70,
   "metadata": {},
   "outputs": [
    {
     "name": "stdout",
     "output_type": "stream",
     "text": [
      "Fitting 3 folds for each of 5 candidates, totalling 15 fits\n"
     ]
    },
    {
     "name": "stderr",
     "output_type": "stream",
     "text": [
      "[Parallel(n_jobs=-1)]: Using backend LokyBackend with 8 concurrent workers.\n",
      "[Parallel(n_jobs=-1)]: Done   8 out of  15 | elapsed:    1.6s remaining:    1.4s\n",
      "[Parallel(n_jobs=-1)]: Done  15 out of  15 | elapsed:    6.4s finished\n"
     ]
    },
    {
     "data": {
      "text/plain": [
       "RandomizedSearchCV(cv=3, estimator=RandomForestRegressor(), n_iter=5, n_jobs=-1,\n",
       "                   param_distributions={'bootstrap': [True, False],\n",
       "                                        'max_depth': [10, 20, 30, 40, 50, 60,\n",
       "                                                      70, 80, 90, 100, 110,\n",
       "                                                      None],\n",
       "                                        'max_features': [1, 2, 3, 4, 5],\n",
       "                                        'min_samples_leaf': [1, 2, 4],\n",
       "                                        'min_samples_split': [2, 5, 10],\n",
       "                                        'n_estimators': [100, 200, 300, 400,\n",
       "                                                         500, 600, 700, 800,\n",
       "                                                         900, 1000]},\n",
       "                   random_state=42, verbose=2)"
      ]
     },
     "execution_count": 70,
     "metadata": {},
     "output_type": "execute_result"
    }
   ],
   "source": [
    "# Use the random grid to search for best hyperparameters\n",
    "Rf = RandomForestRegressor()\n",
    "\n",
    "# search across 5 different combinations, and use all available cores\n",
    "clf = RandomizedSearchCV(estimator = Rf, param_distributions = random_grid, n_iter = 5, cv = 3, \\\n",
    "                         verbose=2, random_state=42, n_jobs = -1)\n",
    "\n",
    "# Fit the random search model\n",
    "clf.fit(X_tr, y_tr)"
   ]
  },
  {
   "cell_type": "markdown",
   "metadata": {},
   "source": [
    "##### Paste the result in the Random forest Model"
   ]
  },
  {
   "cell_type": "code",
   "execution_count": 71,
   "metadata": {},
   "outputs": [
    {
     "data": {
      "text/plain": [
       "RandomForestRegressor(max_features=3, min_samples_leaf=4, n_estimators=200)"
      ]
     },
     "execution_count": 71,
     "metadata": {},
     "output_type": "execute_result"
    }
   ],
   "source": [
    "clf.best_estimator_"
   ]
  },
  {
   "cell_type": "code",
   "execution_count": 72,
   "metadata": {},
   "outputs": [
    {
     "data": {
      "text/plain": [
       "RandomForestRegressor(max_features=3, min_samples_leaf=4, n_estimators=200)"
      ]
     },
     "execution_count": 72,
     "metadata": {},
     "output_type": "execute_result"
    }
   ],
   "source": [
    "from sklearn.ensemble import RandomForestRegressor\n",
    "Rf=RandomForestRegressor(max_features=3, min_samples_leaf=4, n_estimators=200)\n",
    "\n",
    "Rf.fit(X_tr,y_tr)"
   ]
  },
  {
   "cell_type": "markdown",
   "metadata": {},
   "source": [
    "## Test Results Random Forest Regressor\n",
    "##### - Mean squared error and Ajusted R2 are the paramters taken in to consideration to evaluate the model\n",
    "    1) Adjusted R^2 which tells how good our model is, how well the target variable is related to Independent columns.\\\n",
    "    2) Root mean squared Error tells about the same , how much our model is devating from the actual. "
   ]
  },
  {
   "cell_type": "code",
   "execution_count": 73,
   "metadata": {},
   "outputs": [
    {
     "name": "stdout",
     "output_type": "stream",
     "text": [
      "Root mean squared error for unseen data Random Forest Regressor: 0.042809314331753445  \n",
      "\n",
      "Adjusted R^2 corrleation value on unseen data Random Forest Regression: 0.4298477164288971  \n",
      "\n",
      "Root mean squared error on train data Random Forest Regressor: 0.02445278799344391  \n",
      "\n",
      "Adjusted R^2 corrleation value on Train data Random Forest Regression: 0.6925349382516706  \n",
      "\n"
     ]
    }
   ],
   "source": [
    "from sklearn.metrics import mean_squared_error,r2_score\n",
    "from math import sqrt\n",
    "\n",
    "y_pred_ts=Rf.predict(X_ts)\n",
    "\n",
    "rms_test = sqrt(mean_squared_error(y_ts, y_pred_ts))\n",
    "r2_value=r2_score(y_ts,y_pred_ts)\n",
    "\n",
    "# Adjusted R Squared\n",
    "Adjusted_R2 = 1 - (1-r2_value)*(len(y_ts)-1)/(len(y_ts)-X_ts.shape[1]-1)\n",
    "\n",
    "\n",
    "print('Root mean squared error for unseen data Random Forest Regressor:',rms_test,\" \\n\")\n",
    "print('Adjusted R^2 corrleation value on unseen data Random Forest Regression:',Adjusted_R2,\" \\n\")\n",
    "\n",
    "y_pred_tr=Rf.predict(X_tr)\n",
    "\n",
    "rms_train = sqrt(mean_squared_error(y_tr, y_pred_tr))\n",
    "r2_value=r2_score(y_tr,y_pred_tr)\n",
    "\n",
    "Adjusted_R2 = 1 - (1-r2_value)*(len(y_tr)-1)/(len(y_tr)-X_tr.shape[1]-1)\n",
    "\n",
    "print('Root mean squared error on train data Random Forest Regressor:',rms_train,\" \\n\")\n",
    "print('Adjusted R^2 corrleation value on Train data Random Forest Regression:',Adjusted_R2,\" \\n\")\n"
   ]
  },
  {
   "cell_type": "markdown",
   "metadata": {},
   "source": [
    "##### Cross validation on Train Dataset Random Forest Regressor\n",
    "- _Checking the cross validation on the Train dataset_.\n"
   ]
  },
  {
   "cell_type": "code",
   "execution_count": 74,
   "metadata": {},
   "outputs": [
    {
     "name": "stdout",
     "output_type": "stream",
     "text": [
      "[CV]  ................................................................\n"
     ]
    },
    {
     "name": "stderr",
     "output_type": "stream",
     "text": [
      "[Parallel(n_jobs=1)]: Using backend SequentialBackend with 1 concurrent workers.\n"
     ]
    },
    {
     "name": "stdout",
     "output_type": "stream",
     "text": [
      "[CV] ................................................. , total=   1.7s\n",
      "[CV]  ................................................................\n"
     ]
    },
    {
     "name": "stderr",
     "output_type": "stream",
     "text": [
      "[Parallel(n_jobs=1)]: Done   1 out of   1 | elapsed:    1.6s remaining:    0.0s\n"
     ]
    },
    {
     "name": "stdout",
     "output_type": "stream",
     "text": [
      "[CV] ................................................. , total=   1.7s\n",
      "[CV]  ................................................................\n",
      "[CV] ................................................. , total=   1.6s\n",
      "[CV]  ................................................................\n",
      "[CV] ................................................. , total=   1.6s\n",
      "[CV]  ................................................................\n",
      "[CV] ................................................. , total=   1.6s\n",
      "Negative Mean Square Error value Average  -0.03231077429491432 Negative Mean Square Error Variance      0.002760502135317318\n"
     ]
    },
    {
     "name": "stderr",
     "output_type": "stream",
     "text": [
      "[Parallel(n_jobs=1)]: Done   5 out of   5 | elapsed:    8.1s finished\n"
     ]
    }
   ],
   "source": [
    "from sklearn.model_selection import cross_val_score \n",
    "Rf=RandomForestRegressor()\n",
    "Neg_MSE = cross_val_score(estimator = Rf, X = X_tr,\\\n",
    "     y = y_tr, cv = 5,verbose=2,scoring='neg_root_mean_squared_error')\n",
    "print(\"Negative Mean Square Error value Average  {} Negative Mean Square Error Variance \\\n",
    "     {}\".format(Neg_MSE.mean(),Neg_MSE.std()))"
   ]
  },
  {
   "cell_type": "markdown",
   "metadata": {},
   "source": [
    "## XG Boost classifier\n",
    "- _Intially performing Randomized Search on the pramaters available in the XG Boost Model_.\n",
    "- _Also in Randomzed Search N_iterations has been taken only 5 due to memory constrains_. \n",
    "-  _You can good to go with higher iterations_.\n",
    "- _After getting best paramters those have to be substituted in to the algorithm_."
   ]
  },
  {
   "cell_type": "code",
   "execution_count": 75,
   "metadata": {},
   "outputs": [],
   "source": [
    "Xg_tr=X_tr\n",
    "Xg_ts=X_ts\n",
    "\n",
    "l=['attr1','attr2','attr3','attr4']\n",
    "for i in l:\n",
    "    Xg_tr[i]=Xg_tr[i].astype('int')\n",
    "    Xg_ts[i]=Xg_ts[i].astype('int')"
   ]
  },
  {
   "cell_type": "code",
   "execution_count": 76,
   "metadata": {},
   "outputs": [
    {
     "name": "stdout",
     "output_type": "stream",
     "text": [
      "<class 'pandas.core.frame.DataFrame'>\n",
      "RangeIndex: 3000 entries, 0 to 2999\n",
      "Data columns (total 5 columns):\n",
      " #   Column  Non-Null Count  Dtype  \n",
      "---  ------  --------------  -----  \n",
      " 0   attr1   3000 non-null   int32  \n",
      " 1   attr2   3000 non-null   int32  \n",
      " 2   attr3   3000 non-null   int32  \n",
      " 3   attr4   3000 non-null   int32  \n",
      " 4   attr6   3000 non-null   float64\n",
      "dtypes: float64(1), int32(4)\n",
      "memory usage: 70.4 KB\n"
     ]
    }
   ],
   "source": [
    "Xg_ts.info()"
   ]
  },
  {
   "cell_type": "code",
   "execution_count": 77,
   "metadata": {},
   "outputs": [
    {
     "name": "stdout",
     "output_type": "stream",
     "text": [
      "Fitting 5 folds for each of 1 candidates, totalling 5 fits\n"
     ]
    },
    {
     "name": "stderr",
     "output_type": "stream",
     "text": [
      "[Parallel(n_jobs=-1)]: Using backend LokyBackend with 8 concurrent workers.\n",
      "[Parallel(n_jobs=-1)]: Done   2 out of   5 | elapsed:   13.3s remaining:   20.1s\n",
      "[Parallel(n_jobs=-1)]: Done   5 out of   5 | elapsed:   13.4s finished\n"
     ]
    },
    {
     "data": {
      "text/plain": [
       "RandomizedSearchCV(cv=5,\n",
       "                   estimator=XGBRegressor(base_score=None, booster=None,\n",
       "                                          colsample_bylevel=None,\n",
       "                                          colsample_bynode=None,\n",
       "                                          colsample_bytree=None, gamma=None,\n",
       "                                          gpu_id=None, importance_type='gain',\n",
       "                                          interaction_constraints=None,\n",
       "                                          learning_rate=None,\n",
       "                                          max_delta_step=None, max_depth=None,\n",
       "                                          min_child_weight=None, missing=nan,\n",
       "                                          monotone_constraints=None,\n",
       "                                          n_estimators=100, n...\n",
       "                                          tree_method=None,\n",
       "                                          validate_parameters=None,\n",
       "                                          verbosity=None),\n",
       "                   n_iter=1, n_jobs=-1,\n",
       "                   param_distributions={'colsample_bytree': [0.3, 0.4, 0.5,\n",
       "                                                             0.7],\n",
       "                                        'gamma': [0.0, 0.1, 0.2, 0.3, 0.4],\n",
       "                                        'learning_rate': [0.01, 0.05, 0.1, 0.15,\n",
       "                                                          0.2, 0.25, 0.3],\n",
       "                                        'max_depth': [3, 4, 5, 6, 8, 10, 12,\n",
       "                                                      15],\n",
       "                                        'min_child_weight': [1, 3, 5, 7],\n",
       "                                        'reg_alpha': [1, 3, 5, 7, 10],\n",
       "                                        'reg_lambda': [1, 3, 5, 7, 10]},\n",
       "                   scoring='r2', verbose=3)"
      ]
     },
     "execution_count": 77,
     "metadata": {},
     "output_type": "execute_result"
    }
   ],
   "source": [
    "import xgboost as xgb\n",
    "params={\n",
    " \"learning_rate\"    : [0.01,0.05, 0.10, 0.15, 0.20, 0.25, 0.30 ] ,\n",
    " \"max_depth\"        : [ 3, 4, 5, 6, 8, 10, 12, 15],\n",
    " \"min_child_weight\" : [ 1, 3, 5, 7 ],\n",
    " \"gamma\"            : [ 0.0, 0.1, 0.2 , 0.3, 0.4 ],\n",
    " \"colsample_bytree\" : [ 0.3, 0.4, 0.5 , 0.7 ],\n",
    "    \"reg_alpha\"     : [1,3,5,7,10],\n",
    "     \"reg_lambda\"   : [1,3,5,7,10]\n",
    "}\n",
    "\n",
    "from sklearn.model_selection import RandomizedSearchCV\n",
    "Xg=xgb.XGBRegressor()\n",
    "\n",
    "random_search=RandomizedSearchCV(estimator=Xg, param_distributions=params,n_iter=1,\\\n",
    "                                 scoring='r2',n_jobs=-1,cv=5,verbose=3)\n",
    "random_search.fit(Xg_tr,y_tr)"
   ]
  },
  {
   "cell_type": "code",
   "execution_count": 78,
   "metadata": {},
   "outputs": [
    {
     "data": {
      "text/plain": [
       "XGBRegressor(base_score=0.5, booster='gbtree', colsample_bylevel=1,\n",
       "             colsample_bynode=1, colsample_bytree=0.4, gamma=0.1, gpu_id=-1,\n",
       "             importance_type='gain', interaction_constraints='',\n",
       "             learning_rate=0.01, max_delta_step=0, max_depth=8,\n",
       "             min_child_weight=7, missing=nan, monotone_constraints='()',\n",
       "             n_estimators=100, n_jobs=0, num_parallel_tree=1, random_state=0,\n",
       "             reg_alpha=1, reg_lambda=7, scale_pos_weight=1, subsample=1,\n",
       "             tree_method='exact', validate_parameters=1, verbosity=None)"
      ]
     },
     "execution_count": 78,
     "metadata": {},
     "output_type": "execute_result"
    }
   ],
   "source": [
    "random_search.best_estimator_"
   ]
  },
  {
   "cell_type": "code",
   "execution_count": 79,
   "metadata": {},
   "outputs": [
    {
     "data": {
      "text/plain": [
       "XGBRegressor(base_score=0.5, booster='gbtree', colsample_bylevel=1,\n",
       "             colsample_bynode=1, colsample_bytree=0.7, gamma=0.4, gpu_id=-1,\n",
       "             importance_type='gain', interaction_constraints='',\n",
       "             learning_rate=0.05, max_delta_step=0, max_depth=5,\n",
       "             min_child_weight=3, missing=nan, monotone_constraints='()',\n",
       "             n_estimators=100, n_jobs=0, num_parallel_tree=1, random_state=0,\n",
       "             reg_alpha=1, reg_lambda=7, scale_pos_weight=1, subsample=1,\n",
       "             tree_method='exact', validate_parameters=1, verbosity=None)"
      ]
     },
     "execution_count": 79,
     "metadata": {},
     "output_type": "execute_result"
    }
   ],
   "source": [
    "import xgboost as xgb\n",
    "\n",
    "Xg=xgb.XGBRegressor(base_score=0.5, booster='gbtree', colsample_bylevel=1,\n",
    "             colsample_bynode=1, colsample_bytree=0.7, gamma=0.4, gpu_id=-1,\n",
    "             importance_type='gain', interaction_constraints='',\n",
    "             learning_rate=0.05, max_delta_step=0, max_depth=5,\n",
    "             min_child_weight=3, monotone_constraints='()',\n",
    "             n_estimators=100, n_jobs=0, num_parallel_tree=1, random_state=0,\n",
    "             reg_alpha=1, reg_lambda=7, scale_pos_weight=1, subsample=1,\n",
    "             tree_method='exact', validate_parameters=1, verbosity=None)\n",
    "Xg.fit(Xg_tr,y_tr)\n"
   ]
  },
  {
   "cell_type": "markdown",
   "metadata": {},
   "source": [
    "## Test Results XG Boost \n",
    "##### - Mean squared error and Ajusted R2 are the paramters taken in to consideration to evaluate the model"
   ]
  },
  {
   "cell_type": "code",
   "execution_count": 80,
   "metadata": {},
   "outputs": [
    {
     "name": "stdout",
     "output_type": "stream",
     "text": [
      "Root mean squared error for unseen data XG Boost: 0.04571293197543906  \n",
      "\n",
      "Adjusted R^2 corrleation value on unseen data Xg Boost: 0.34988156832964357  \n",
      "\n",
      "Root mean squared error on train data XG Boost: 0.034428522866734014  \n",
      "\n",
      "Adjusted R^2 corrleation value on Train data Xg Boost: 0.39049708425186314  \n",
      "\n"
     ]
    }
   ],
   "source": [
    "from sklearn.metrics import mean_squared_error,r2_score\n",
    "from math import sqrt\n",
    "\n",
    "y_pred_ts=Xg.predict(Xg_ts)\n",
    "\n",
    "rms_test = sqrt(mean_squared_error(y_ts, y_pred_ts))\n",
    "r2_value=r2_score(y_ts,y_pred_ts)\n",
    "\n",
    "# Adjusted R Squared\n",
    "Adjusted_R2 = 1 - (1-r2_value)*(len(y_ts)-1)/(len(y_ts)-Xg_ts.shape[1]-1)\n",
    "\n",
    "\n",
    "print('Root mean squared error for unseen data XG Boost:',rms_test,\" \\n\")\n",
    "print('Adjusted R^2 corrleation value on unseen data Xg Boost:',Adjusted_R2,\" \\n\")\n",
    "\n",
    "y_pred_tr=Xg.predict(Xg_tr)\n",
    "\n",
    "rms_train = sqrt(mean_squared_error(y_tr, y_pred_tr))\n",
    "r2_value=r2_score(y_tr,y_pred_tr)\n",
    "\n",
    "Adjusted_R2 = 1 - (1-r2_value)*(len(y_tr)-1)/(len(y_tr)-Xg_tr.shape[1]-1)\n",
    "\n",
    "print('Root mean squared error on train data XG Boost:',rms_train,\" \\n\")\n",
    "print('Adjusted R^2 corrleation value on Train data Xg Boost:',Adjusted_R2,\" \\n\")\n"
   ]
  }
 ],
 "metadata": {
  "colab": {
   "collapsed_sections": [],
   "name": "Poshmark_assign.ipynb",
   "provenance": []
  },
  "kernelspec": {
   "display_name": "Python 3",
   "language": "python",
   "name": "python3"
  },
  "language_info": {
   "codemirror_mode": {
    "name": "ipython",
    "version": 3
   },
   "file_extension": ".py",
   "mimetype": "text/x-python",
   "name": "python",
   "nbconvert_exporter": "python",
   "pygments_lexer": "ipython3",
   "version": "3.6.9"
  }
 },
 "nbformat": 4,
 "nbformat_minor": 1
}
